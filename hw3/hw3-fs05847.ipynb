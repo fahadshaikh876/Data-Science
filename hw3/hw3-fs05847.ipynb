{
 "cells": [
  {
   "cell_type": "markdown",
   "metadata": {},
   "source": [
    "# Exploratory Data Analysis\n",
    "## Fahad Ahmed"
   ]
  },
  {
   "cell_type": "code",
   "execution_count": 1,
   "metadata": {},
   "outputs": [],
   "source": [
    "import pandas as pd\n",
    "import seaborn as sns                       #visualisation\n",
    "import matplotlib.pyplot as plt             #visualisation\n",
    "%matplotlib inline  "
   ]
  },
  {
   "cell_type": "code",
   "execution_count": null,
   "metadata": {},
   "outputs": [],
   "source": [
    "df = pd.read_csv(\"C:/Users/HP/OneDrive/Desktop/3rdyear/dataSci/hw3/loan_small.csv\")\n",
    "df.head()"
   ]
  },
  {
   "cell_type": "markdown",
   "metadata": {},
   "source": [
    "## Part 1\n",
    "### point 1"
   ]
  },
  {
   "cell_type": "code",
   "execution_count": 2,
   "metadata": {},
   "outputs": [
    {
     "ename": "NameError",
     "evalue": "name 'df' is not defined",
     "output_type": "error",
     "traceback": [
      "\u001b[1;31m---------------------------------------------------------------------------\u001b[0m",
      "\u001b[1;31mNameError\u001b[0m                                 Traceback (most recent call last)",
      "\u001b[1;32m~\\AppData\\Local\\Temp/ipykernel_26248/2224877938.py\u001b[0m in \u001b[0;36m<module>\u001b[1;34m\u001b[0m\n\u001b[1;32m----> 1\u001b[1;33m \u001b[0mdf\u001b[0m\u001b[1;33m[\u001b[0m\u001b[1;34m\"term\"\u001b[0m\u001b[1;33m]\u001b[0m \u001b[1;33m=\u001b[0m \u001b[0mdf\u001b[0m\u001b[1;33m[\u001b[0m\u001b[1;34m\"term\"\u001b[0m\u001b[1;33m]\u001b[0m\u001b[1;33m.\u001b[0m\u001b[0mstr\u001b[0m\u001b[1;33m.\u001b[0m\u001b[0mstrip\u001b[0m\u001b[1;33m(\u001b[0m\u001b[1;34m\" months\"\u001b[0m\u001b[1;33m)\u001b[0m\u001b[1;33m\u001b[0m\u001b[1;33m\u001b[0m\u001b[0m\n\u001b[0m\u001b[0;32m      2\u001b[0m \u001b[0mdf\u001b[0m\u001b[1;33m\u001b[0m\u001b[1;33m\u001b[0m\u001b[0m\n",
      "\u001b[1;31mNameError\u001b[0m: name 'df' is not defined"
     ]
    }
   ],
   "source": [
    "df[\"term\"] = df[\"term\"].str.strip(\" months\")\n",
    "df"
   ]
  },
  {
   "cell_type": "markdown",
   "metadata": {},
   "source": [
    "## point 2:"
   ]
  },
  {
   "cell_type": "code",
   "execution_count": null,
   "metadata": {},
   "outputs": [],
   "source": [
    "df[\"emp_length\"] = df[\"emp_length\"].str.strip(\"<\")\n",
    "df[\"emp_length\"] = df[\"emp_length\"].str.strip(\"year\")\n",
    "df[\"emp_length\"] = df[\"emp_length\"].str.strip(\"years\")\n",
    "df[\"emp_length\"] = df[\"emp_length\"].str.replace('+',\"\")"
   ]
  },
  {
   "cell_type": "code",
   "execution_count": null,
   "metadata": {},
   "outputs": [],
   "source": [
    "df.shape"
   ]
  },
  {
   "cell_type": "code",
   "execution_count": null,
   "metadata": {},
   "outputs": [],
   "source": [
    "# df = df.dropna()    # Dropping the missing values.\n",
    "# df.shape"
   ]
  },
  {
   "cell_type": "markdown",
   "metadata": {},
   "source": [
    "##### Not dropping missing rows because it loses too much data"
   ]
  },
  {
   "cell_type": "code",
   "execution_count": null,
   "metadata": {},
   "outputs": [],
   "source": [
    "percent_missing = df[\"mths_since_last_delinq\"].isnull().sum() * 100 / len(df)\n",
    "percent_missing1 = df[\"mths_since_last_record\"].isnull().sum() * 100 / len(df)\n",
    "\n",
    "# percent_missing\n",
    "# percent_missing1"
   ]
  },
  {
   "cell_type": "code",
   "execution_count": null,
   "metadata": {},
   "outputs": [],
   "source": [
    "df[\"emp_length\"] = df[\"emp_length\"].astype(float)"
   ]
  },
  {
   "cell_type": "markdown",
   "metadata": {},
   "source": [
    "## changed it to float because it has missing values so can't change it to integar.\n",
    "### cannot do drop rows because some columes have missing value % over 90 so dropping rows making data loss and cannot drop those columns because the question ask us to Imputation on those columns in next part."
   ]
  },
  {
   "cell_type": "markdown",
   "metadata": {},
   "source": [
    "## point 3"
   ]
  },
  {
   "cell_type": "code",
   "execution_count": null,
   "metadata": {},
   "outputs": [],
   "source": [
    "df[\"loan_status\"] = df[\"loan_status\"].replace({\"Fully Paid\":\"good\",\"Current\":\"good\",\"Charged Off\":\"bad\",\"Late (31-120 days)\":\"bad\",\"Default\":'bad'})"
   ]
  },
  {
   "cell_type": "markdown",
   "metadata": {},
   "source": [
    "#### loan_status is now binary attribute with good/bad. fully paid = good, charged off = bad, current is sort of medium but ill make to good because thats also fine"
   ]
  },
  {
   "cell_type": "markdown",
   "metadata": {},
   "source": [
    "## point 4: Impute or replace missing values"
   ]
  },
  {
   "cell_type": "code",
   "execution_count": null,
   "metadata": {},
   "outputs": [],
   "source": [
    "df[\"mths_since_last_delinq\"].fillna(df[\"mths_since_last_delinq\"].median(), inplace = True)"
   ]
  },
  {
   "cell_type": "code",
   "execution_count": null,
   "metadata": {},
   "outputs": [],
   "source": [
    "df[\"mths_since_last_record\"].fillna(df[\"mths_since_last_record\"].median(), inplace = True)"
   ]
  },
  {
   "cell_type": "markdown",
   "metadata": {},
   "source": [
    "# Explanation: fill both columns with median because there was rapid change in the values.\n",
    "### missing value % was very high for both columns so should have drop the them because question asked to do Imputation"
   ]
  },
  {
   "cell_type": "markdown",
   "metadata": {},
   "source": [
    "#### part 1 done"
   ]
  },
  {
   "cell_type": "code",
   "execution_count": null,
   "metadata": {},
   "outputs": [],
   "source": [
    "df1 = df"
   ]
  },
  {
   "cell_type": "markdown",
   "metadata": {},
   "source": [
    "## Part 2 - Exploratory Data Analysis\n",
    "#### new dataframe = df1"
   ]
  },
  {
   "cell_type": "markdown",
   "metadata": {},
   "source": [
    "## dropping these columns because there is no use of them in this part and they doesn't make any sense to me so to make dataframe look better I dropped them."
   ]
  },
  {
   "cell_type": "code",
   "execution_count": null,
   "metadata": {},
   "outputs": [],
   "source": [
    "df1 = df1.drop(columns=['emp_title',\"mths_since_last_delinq\",\"mths_since_last_record\",\"application_type\",\"initial_list_status\",\"verification_status\"])"
   ]
  },
  {
   "cell_type": "code",
   "execution_count": null,
   "metadata": {},
   "outputs": [],
   "source": [
    "df1[\"purpose\"].describe()"
   ]
  },
  {
   "cell_type": "markdown",
   "metadata": {},
   "source": [
    "### there 13 different reasons for people to get the loan and most common(Mode) purpose for loan is debt_consolidation with frequency of 527 out of 999."
   ]
  },
  {
   "cell_type": "code",
   "execution_count": null,
   "metadata": {},
   "outputs": [],
   "source": [
    "df1[\"installment\"].describe()"
   ]
  },
  {
   "cell_type": "markdown",
   "metadata": {},
   "source": [
    "### the mean Installment is 366.7 almost 367 and the maximum install by an employee is 1234 and the minimum Installment is 33.9\n",
    "### standard variation is 200"
   ]
  },
  {
   "cell_type": "code",
   "execution_count": null,
   "metadata": {},
   "outputs": [],
   "source": [
    "df1[\"loan_amnt\"].describe()"
   ]
  },
  {
   "cell_type": "code",
   "execution_count": null,
   "metadata": {},
   "outputs": [],
   "source": [
    "df1[\"loan_amnt\"].mean()-df1[\"loan_amnt\"].median()"
   ]
  },
  {
   "cell_type": "markdown",
   "metadata": {},
   "source": [
    "### the maximum loan amount taken is 35000 and the minimum is 1000\n",
    "### the mean for the loan amount taken by an employee is 12704. the median and mean have only difference of 1200."
   ]
  },
  {
   "cell_type": "markdown",
   "metadata": {},
   "source": [
    "## univariate"
   ]
  },
  {
   "cell_type": "code",
   "execution_count": null,
   "metadata": {},
   "outputs": [],
   "source": [
    "a = df1['purpose'].value_counts()\n",
    "df1['purpose'].value_counts().plot(kind='bar', figsize=(10,4))"
   ]
  },
  {
   "cell_type": "code",
   "execution_count": null,
   "metadata": {},
   "outputs": [],
   "source": [
    "sns.countplot(x ='purpose', data = df1, order=df1['purpose'].value_counts()[:13].index).tick_params(axis='x', rotation=90)"
   ]
  },
  {
   "cell_type": "markdown",
   "metadata": {},
   "source": [
    "### on x-axis we have \"purpose\" and on y-axis is count.\n",
    "#### as we can in see both bar graphs that biigest purpose of loan is \"debt_consolidation\" as it has highest bar (above 500) and second highest is \"credit_card\" which means it is the second most common reason for loan. the rest of the purposes are below 100."
   ]
  },
  {
   "cell_type": "code",
   "execution_count": null,
   "metadata": {},
   "outputs": [],
   "source": [
    "df1['loan_status'].hist()"
   ]
  },
  {
   "cell_type": "markdown",
   "metadata": {},
   "source": [
    "## as we can see in the histogram that their above 800 people for good status for loan and very less people, below 200, have bad status for loan.\n",
    "## it majority of people fully paid the loan and some people has not paid the loan. "
   ]
  },
  {
   "cell_type": "markdown",
   "metadata": {},
   "source": [
    "## bivariate"
   ]
  },
  {
   "cell_type": "code",
   "execution_count": null,
   "metadata": {},
   "outputs": [],
   "source": [
    "sns.lmplot(data=df1,x=\"loan_amnt\", y=\"installment\",line_kws={'color': 'red'},scatter=True)"
   ]
  },
  {
   "cell_type": "markdown",
   "metadata": {},
   "source": [
    "## x-axis = loan_amnt, y-axis = installment\n",
    "## as we can see in the graph the we linear relation between loan_amnt and installment. it means that as the loan_amnt increases installment also increase with constant(positve) rate."
   ]
  },
  {
   "cell_type": "code",
   "execution_count": null,
   "metadata": {},
   "outputs": [],
   "source": [
    "plt.figure(figsize=(6,8))\n",
    "colors = ['red', 'green','blue']\n",
    "sns.boxplot(data =df1, y='loan_amnt', x='home_ownership',palette=colors)\n",
    "plt.title('saving amount with decision')\n",
    "plt.show()"
   ]
  },
  {
   "cell_type": "markdown",
   "metadata": {},
   "source": [
    "### from boxplot we can see that the people who has rent-home has range of loan_amount from around 7000 to 15000 and the median is slightly above 1000.\n",
    "### for people who own the whom, their loan_amount ranges from roughly 6000 to around 16000 and the median is very close to 1000.\n",
    "### the people who live in mortage their loan_amount starts around 8000 and goes till around 2000. and their median loan_amount is 12500."
   ]
  },
  {
   "cell_type": "code",
   "execution_count": null,
   "metadata": {},
   "outputs": [],
   "source": [
    "df1 = df1.drop(columns=[\"grade\",\"inq_last_6mths\",'zip_code','addr_state','dti','delinq_2yrs','earliest_cr_line','open_acc','out_prncp','out_prncp_inv','total_rec_late_fee','recoveries','collection_recovery_fee','last_pymnt_d','id','member_id','term',\"emp_length\",'issue_d','pub_rec','revol_bal','revol_util','funded_amnt_inv','total_rec_prncp','total_rec_int'])\t"
   ]
  },
  {
   "cell_type": "markdown",
   "metadata": {},
   "source": [
    "#### dropped some columns because there is no use of them and doesn't make any sense."
   ]
  },
  {
   "cell_type": "code",
   "execution_count": null,
   "metadata": {},
   "outputs": [],
   "source": [
    "plt.figure(figsize = (15,9))\n",
    "sns.heatmap(round(df1.corr(),2),annot=True)"
   ]
  },
  {
   "cell_type": "markdown",
   "metadata": {},
   "source": [
    "## as we can see in the heatmap that loan_amnt has strong correlation with funded_amnt which means that almost linear relationship with high gradient as their correlation 0.96, closer to 1, so if loan_amnt increases then funded_amnt will also increases with a postive rate.\n",
    "## loan_amnt has weak correlation with int_rate so it means that their linear relationship but with low gradient so thier correlation is 0.29 so it is postive then as int_rate increases, loan_amnt will also increase but very low rate."
   ]
  }
 ],
 "metadata": {
  "file_extension": ".py",
  "kernelspec": {
   "display_name": "Python 3.9.6 64-bit",
   "language": "python",
   "name": "python3"
  },
  "language_info": {
   "codemirror_mode": {
    "name": "ipython",
    "version": 3
   },
   "name": "python",
   "version": "3.9.6"
  },
  "mimetype": "text/x-python",
  "name": "python",
  "npconvert_exporter": "python",
  "orig_nbformat": 2,
  "pygments_lexer": "ipython3",
  "version": 3,
  "vscode": {
   "interpreter": {
    "hash": "f6246b25e200e4c5124e3e61789ac81350562f0761bbcf92ad9e48654207659c"
   }
  }
 },
 "nbformat": 4,
 "nbformat_minor": 2
}
