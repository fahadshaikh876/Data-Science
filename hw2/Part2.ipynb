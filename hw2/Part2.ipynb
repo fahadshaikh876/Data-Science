{
 "cells": [
  {
   "cell_type": "code",
   "execution_count": 1,
   "id": "4c3e0476",
   "metadata": {},
   "outputs": [],
   "source": [
    "import numpy as np\n",
    "import sys\n",
    "import pandas as pd\n",
    "dframe = pd.read_csv('580SurveyCleanup_formatted.csv')\n"
   ]
  },
  {
   "cell_type": "code",
   "execution_count": 2,
   "id": "817efff9-2435-45cc-b1d5-e8122187c75e",
   "metadata": {},
   "outputs": [
    {
     "data": {
      "text/plain": [
       "Unnamed: 0                                          0\n",
       "Time                                                0\n",
       "Status                                              0\n",
       "Duration (Seconds)                                  0\n",
       "Access Code                                        36\n",
       "Email Address                                      36\n",
       "IP Address                                          0\n",
       "Country                                             0\n",
       "Region                                              4\n",
       "City / Town / District                              5\n",
       "Latitude                                            0\n",
       "Longitude                                           0\n",
       "Section                                             0\n",
       "Gender                                              0\n",
       "Age (years)                                         0\n",
       "Height (Inches)                                     1\n",
       "Country of Citizenship                              2\n",
       "Undergraduate Degree                                2\n",
       "Expected Graduation date from Mason MS program?     3\n",
       "Type of Laptop                                      0\n",
       "Full-time                                           3\n",
       "Level of programming (Python)                       3\n",
       "Level of programming (R)                            3\n",
       "Level of programming (SQL)                          3\n",
       "Goal                                                9\n",
       "dtype: int64"
      ]
     },
     "execution_count": 2,
     "metadata": {},
     "output_type": "execute_result"
    }
   ],
   "source": [
    "dframe.isnull().sum()\n",
    "    #Access code = 36 null values\n",
    "    #Email Address = 36 null values\n",
    "    #Region = 4 null values\n",
    "    #City / Town / District = 5 null values\n",
    "    #Height (Inches) = 1 null value\n",
    "    #Country of Citizenship = 2 null values\n",
    "    #Undergraduate Degree = 2 null values\n",
    "    #Expected Graduation date from Mason MS program? = 3 null values\n",
    "    #Type of Laptop = 3 null values\n",
    "    #Full-time = 3 null values\n",
    "    #Level of programming (Python) = 3 null values\n",
    "    #Level of programming (R) = 3 null values\n",
    "    #Level of programming (SQL) = 3 null values\n",
    "    #Goal = 9 null values"
   ]
  },
  {
   "cell_type": "code",
   "execution_count": 3,
   "id": "78973994",
   "metadata": {},
   "outputs": [],
   "source": [
    "dframe['Age (years)'] = dframe['Age (years)'].replace(['2 3', '1993'], [23, 2022 - 1993])\n",
    "dframe['Height (Inches)'] = dframe['Height (Inches)'].replace(['6l', '7O'], [61, 70])\n",
    "\n",
    "dframe['Country of Citizenship'] = dframe['Country of Citizenship'].str.title()\n",
    "dframe['Undergraduate Degree'] = dframe['Undergraduate Degree'].str.title()\n",
    "\n",
    "dframe['Age (years)'] = dframe['Age (years)'].astype(int)\n",
    "dframe['Height (Inches)'] = dframe['Height (Inches)'].astype(float)"
   ]
  },
  {
   "cell_type": "code",
   "execution_count": 4,
   "id": "b2157470-1dfb-41eb-8d92-cfd4dba553bf",
   "metadata": {},
   "outputs": [],
   "source": [
    "#Access Code and Email address have no values and we can fill those with mode values or anything. \n",
    "#Hence, we drop these columns\n",
    "dframe = dframe.drop(['Access Code', 'Email Address'], axis=1)"
   ]
  },
  {
   "cell_type": "code",
   "execution_count": 5,
   "id": "9a2b353b-8b81-4e7e-a6de-3ef92deded1c",
   "metadata": {},
   "outputs": [],
   "source": [
    "def fill_mode(data: pd.DataFrame, col: str):\n",
    "    data[col].fillna(data[col].mode()[0], inplace = True)\n",
    "##Since all the below attributes are of categorical type we use mode. We take mode of the values \n",
    "#and fill the empty cells with mode value. \n",
    "\n",
    "\n",
    "fill_mode(dframe, 'Region') #mode = Virginia\n",
    "fill_mode(dframe, 'City / Town / District')\n",
    "fill_mode(dframe, 'Country of Citizenship')\n",
    "fill_mode(dframe, 'Undergraduate Degree')\n",
    "fill_mode(dframe, 'Expected Graduation date from Mason MS program?')\n",
    "fill_mode(dframe, 'Type of Laptop')\n",
    "fill_mode(dframe, 'Full-time')\n",
    "fill_mode(dframe, 'Level of programming (Python)')                                               \n",
    "fill_mode(dframe, 'Level of programming (R)')\n",
    "fill_mode(dframe, 'Level of programming (SQL)')\n",
    "\n",
    "#All the below values are of numerical type hence we will take their mean \n",
    "#and fill the NULL values with mean values\n",
    "\n",
    "dframe['Height (Inches)'].fillna(dframe['Age (years)'].mean().round(0), inplace = True)\n"
   ]
  },
  {
   "cell_type": "code",
   "execution_count": 6,
   "id": "f5700886-4075-446e-ad8a-153cd3a273e3",
   "metadata": {},
   "outputs": [],
   "source": [
    "import sys\n",
    "dframe.to_csv(\"580SurveyCleanup_formatted_cleaned.csv\")"
   ]
  }
 ],
 "metadata": {
  "kernelspec": {
   "display_name": "Python 3 (ipykernel)",
   "language": "python",
   "name": "python3"
  },
  "language_info": {
   "codemirror_mode": {
    "name": "ipython",
    "version": 3
   },
   "file_extension": ".py",
   "mimetype": "text/x-python",
   "name": "python",
   "nbconvert_exporter": "python",
   "pygments_lexer": "ipython3",
   "version": "3.9.7"
  }
 },
 "nbformat": 4,
 "nbformat_minor": 5
}