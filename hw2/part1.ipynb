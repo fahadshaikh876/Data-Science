{
 "cells": [
  {
   "cell_type": "markdown",
   "id": "ce92ca6a",
   "metadata": {},
   "source": [
    "# Assignment Data File"
   ]
  },
  {
   "cell_type": "code",
   "execution_count": 673,
   "metadata": {},
   "outputs": [],
   "source": [
    "import pandas as pd"
   ]
  },
  {
   "cell_type": "code",
   "execution_count": 705,
   "metadata": {},
   "outputs": [
    {
     "data": {
      "text/html": "<div>\n<style scoped>\n    .dataframe tbody tr th:only-of-type {\n        vertical-align: middle;\n    }\n\n    .dataframe tbody tr th {\n        vertical-align: top;\n    }\n\n    .dataframe thead th {\n        text-align: right;\n    }\n</style>\n<table border=\"1\" class=\"dataframe\">\n  <thead>\n    <tr style=\"text-align: right;\">\n      <th></th>\n      <th>Unnamed: 0</th>\n      <th>Unnamed: 1</th>\n      <th>Unnamed: 2</th>\n      <th>Unnamed: 3</th>\n      <th>Unnamed: 4</th>\n      <th>Unnamed: 5</th>\n      <th>Unnamed: 6</th>\n      <th>Unnamed: 7</th>\n      <th>Unnamed: 8</th>\n      <th>Unnamed: 9</th>\n      <th>...</th>\n      <th>Q11.1</th>\n      <th>Q11.2</th>\n      <th>Q11.3</th>\n      <th>Q11.4</th>\n      <th>Q12</th>\n      <th>Q12.1</th>\n      <th>Q12.2</th>\n      <th>Q12.3</th>\n      <th>Q12.4</th>\n      <th>Q13</th>\n    </tr>\n  </thead>\n  <tbody>\n    <tr>\n      <th>0</th>\n      <td>No.</td>\n      <td>Time</td>\n      <td>Status</td>\n      <td>Duration (Seconds)</td>\n      <td>Access Code</td>\n      <td>Email Address</td>\n      <td>IP Address</td>\n      <td>Country</td>\n      <td>Region</td>\n      <td>City / Town / District</td>\n      <td>...</td>\n      <td>Some familiarity</td>\n      <td>Average user</td>\n      <td>Frequent use for projects</td>\n      <td>Fluent/expert</td>\n      <td>Little/none</td>\n      <td>Some familiarity</td>\n      <td>Average user</td>\n      <td>Frequent use for projects</td>\n      <td>Fluent/expert</td>\n      <td>What is your goal for learning about data anal...</td>\n    </tr>\n    <tr>\n      <th>1</th>\n      <td>1</td>\n      <td>10/3/20 5:49 PM</td>\n      <td>Completed</td>\n      <td>11646</td>\n      <td>NaN</td>\n      <td>NaN</td>\n      <td>100.36.167.226</td>\n      <td>United States</td>\n      <td>Virginia</td>\n      <td>Fairfax</td>\n      <td>...</td>\n      <td>NaN</td>\n      <td>NaN</td>\n      <td>NaN</td>\n      <td>NaN</td>\n      <td>NaN</td>\n      <td>1</td>\n      <td>NaN</td>\n      <td>NaN</td>\n      <td>NaN</td>\n      <td>NaN</td>\n    </tr>\n    <tr>\n      <th>2</th>\n      <td>2</td>\n      <td>10/3/20 5:49 PM</td>\n      <td>Completed</td>\n      <td>113</td>\n      <td>NaN</td>\n      <td>NaN</td>\n      <td>98.169.26.134</td>\n      <td>United States</td>\n      <td>Virginia</td>\n      <td>Fairfax</td>\n      <td>...</td>\n      <td>NaN</td>\n      <td>1</td>\n      <td>NaN</td>\n      <td>NaN</td>\n      <td>1</td>\n      <td>NaN</td>\n      <td>NaN</td>\n      <td>NaN</td>\n      <td>NaN</td>\n      <td>NaN</td>\n    </tr>\n    <tr>\n      <th>3</th>\n      <td>3</td>\n      <td>10/3/20 5:49 PM</td>\n      <td>Completed</td>\n      <td>572</td>\n      <td>NaN</td>\n      <td>NaN</td>\n      <td>98.169.52.23</td>\n      <td>United States</td>\n      <td>Virginia</td>\n      <td>Greenway Downs</td>\n      <td>...</td>\n      <td>NaN</td>\n      <td>NaN</td>\n      <td>NaN</td>\n      <td>NaN</td>\n      <td>NaN</td>\n      <td>NaN</td>\n      <td>1</td>\n      <td>NaN</td>\n      <td>NaN</td>\n      <td>As part of my work, I have access to a lot of ...</td>\n    </tr>\n    <tr>\n      <th>4</th>\n      <td>4</td>\n      <td>10/3/20 5:50 PM</td>\n      <td>Completed</td>\n      <td>365</td>\n      <td>NaN</td>\n      <td>NaN</td>\n      <td>69.255.182.253</td>\n      <td>United States</td>\n      <td>Virginia</td>\n      <td>Gainesville</td>\n      <td>...</td>\n      <td>NaN</td>\n      <td>NaN</td>\n      <td>1</td>\n      <td>NaN</td>\n      <td>NaN</td>\n      <td>1</td>\n      <td>NaN</td>\n      <td>NaN</td>\n      <td>NaN</td>\n      <td>NaN</td>\n    </tr>\n    <tr>\n      <th>5</th>\n      <td>5</td>\n      <td>10/3/20 5:51 PM</td>\n      <td>Completed</td>\n      <td>92</td>\n      <td>NaN</td>\n      <td>NaN</td>\n      <td>138.88.108.230</td>\n      <td>United States</td>\n      <td>NaN</td>\n      <td>NaN</td>\n      <td>...</td>\n      <td>1</td>\n      <td>NaN</td>\n      <td>NaN</td>\n      <td>NaN</td>\n      <td>NaN</td>\n      <td>NaN</td>\n      <td>1</td>\n      <td>NaN</td>\n      <td>NaN</td>\n      <td>Learn</td>\n    </tr>\n    <tr>\n      <th>6</th>\n      <td>6</td>\n      <td>10/3/20 5:59 PM</td>\n      <td>Incomplete</td>\n      <td>221</td>\n      <td>NaN</td>\n      <td>NaN</td>\n      <td>108.56.134.80</td>\n      <td>United States</td>\n      <td>Virginia</td>\n      <td>Reston</td>\n      <td>...</td>\n      <td>NaN</td>\n      <td>NaN</td>\n      <td>NaN</td>\n      <td>NaN</td>\n      <td>NaN</td>\n      <td>NaN</td>\n      <td>NaN</td>\n      <td>NaN</td>\n      <td>NaN</td>\n      <td>NaN</td>\n    </tr>\n    <tr>\n      <th>7</th>\n      <td>7</td>\n      <td>10/3/20 6:23 PM</td>\n      <td>Completed</td>\n      <td>115983</td>\n      <td>NaN</td>\n      <td>NaN</td>\n      <td>108.48.175.220</td>\n      <td>United States</td>\n      <td>Virginia</td>\n      <td>Arlington</td>\n      <td>...</td>\n      <td>NaN</td>\n      <td>1</td>\n      <td>NaN</td>\n      <td>NaN</td>\n      <td>NaN</td>\n      <td>NaN</td>\n      <td>1</td>\n      <td>NaN</td>\n      <td>NaN</td>\n      <td>To deduce meaningful interpretation for Financ...</td>\n    </tr>\n    <tr>\n      <th>8</th>\n      <td>8</td>\n      <td>10/3/20 7:10 PM</td>\n      <td>Incomplete</td>\n      <td>40</td>\n      <td>NaN</td>\n      <td>NaN</td>\n      <td>173.67.199.85</td>\n      <td>United States</td>\n      <td>Virginia</td>\n      <td>Ashburn</td>\n      <td>...</td>\n      <td>NaN</td>\n      <td>NaN</td>\n      <td>NaN</td>\n      <td>NaN</td>\n      <td>NaN</td>\n      <td>NaN</td>\n      <td>NaN</td>\n      <td>NaN</td>\n      <td>NaN</td>\n      <td>NaN</td>\n    </tr>\n    <tr>\n      <th>9</th>\n      <td>9</td>\n      <td>10/3/20 7:25 PM</td>\n      <td>Completed</td>\n      <td>137</td>\n      <td>NaN</td>\n      <td>NaN</td>\n      <td>74.96.114.12</td>\n      <td>United States</td>\n      <td>Virginia</td>\n      <td>Woodbridge</td>\n      <td>...</td>\n      <td>NaN</td>\n      <td>NaN</td>\n      <td>1</td>\n      <td>NaN</td>\n      <td>NaN</td>\n      <td>NaN</td>\n      <td>1</td>\n      <td>NaN</td>\n      <td>NaN</td>\n      <td>NaN</td>\n    </tr>\n    <tr>\n      <th>10</th>\n      <td>10</td>\n      <td>10/3/20 7:56 PM</td>\n      <td>Incomplete</td>\n      <td>179</td>\n      <td>NaN</td>\n      <td>NaN</td>\n      <td>107.77.241.32</td>\n      <td>United States</td>\n      <td>Texas</td>\n      <td>NaN</td>\n      <td>...</td>\n      <td>NaN</td>\n      <td>NaN</td>\n      <td>NaN</td>\n      <td>NaN</td>\n      <td>NaN</td>\n      <td>NaN</td>\n      <td>NaN</td>\n      <td>NaN</td>\n      <td>NaN</td>\n      <td>NaN</td>\n    </tr>\n    <tr>\n      <th>11</th>\n      <td>11</td>\n      <td>10/3/20 8:14 PM</td>\n      <td>Completed</td>\n      <td>127</td>\n      <td>NaN</td>\n      <td>NaN</td>\n      <td>138.88.182.245</td>\n      <td>United States</td>\n      <td>Maryland</td>\n      <td>Takoma Park</td>\n      <td>...</td>\n      <td>NaN</td>\n      <td>NaN</td>\n      <td>NaN</td>\n      <td>NaN</td>\n      <td>NaN</td>\n      <td>1</td>\n      <td>NaN</td>\n      <td>NaN</td>\n      <td>NaN</td>\n      <td>To see if it is a field I am interested in pur...</td>\n    </tr>\n    <tr>\n      <th>12</th>\n      <td>12</td>\n      <td>10/3/20 9:38 PM</td>\n      <td>Completed</td>\n      <td>269</td>\n      <td>NaN</td>\n      <td>NaN</td>\n      <td>72.83.246.60</td>\n      <td>United States</td>\n      <td>Virginia</td>\n      <td>Fairfax</td>\n      <td>...</td>\n      <td>NaN</td>\n      <td>1</td>\n      <td>NaN</td>\n      <td>NaN</td>\n      <td>NaN</td>\n      <td>NaN</td>\n      <td>NaN</td>\n      <td>1</td>\n      <td>NaN</td>\n      <td>To learn and explore cutting edge data technol...</td>\n    </tr>\n    <tr>\n      <th>13</th>\n      <td>13</td>\n      <td>10/3/20 9:41 PM</td>\n      <td>Completed</td>\n      <td>117</td>\n      <td>NaN</td>\n      <td>NaN</td>\n      <td>96.241.43.105</td>\n      <td>United States</td>\n      <td>Virginia</td>\n      <td>Chantilly</td>\n      <td>...</td>\n      <td>NaN</td>\n      <td>1</td>\n      <td>NaN</td>\n      <td>NaN</td>\n      <td>NaN</td>\n      <td>NaN</td>\n      <td>1</td>\n      <td>NaN</td>\n      <td>NaN</td>\n      <td>Learn to select the appropriate tools to condu...</td>\n    </tr>\n    <tr>\n      <th>14</th>\n      <td>14</td>\n      <td>10/3/20 10:49 PM</td>\n      <td>Completed</td>\n      <td>5966</td>\n      <td>NaN</td>\n      <td>NaN</td>\n      <td>71.191.72.223</td>\n      <td>United States</td>\n      <td>Virginia</td>\n      <td>Burke</td>\n      <td>...</td>\n      <td>NaN</td>\n      <td>1</td>\n      <td>NaN</td>\n      <td>NaN</td>\n      <td>NaN</td>\n      <td>NaN</td>\n      <td>1</td>\n      <td>NaN</td>\n      <td>NaN</td>\n      <td>NaN</td>\n    </tr>\n    <tr>\n      <th>15</th>\n      <td>15</td>\n      <td>10/3/20 11:25 PM</td>\n      <td>Completed</td>\n      <td>254</td>\n      <td>NaN</td>\n      <td>NaN</td>\n      <td>73.134.53.227</td>\n      <td>United States</td>\n      <td>Maryland</td>\n      <td>Hyattsville</td>\n      <td>...</td>\n      <td>NaN</td>\n      <td>NaN</td>\n      <td>NaN</td>\n      <td>NaN</td>\n      <td>1</td>\n      <td>NaN</td>\n      <td>NaN</td>\n      <td>NaN</td>\n      <td>NaN</td>\n      <td>improve my skills</td>\n    </tr>\n    <tr>\n      <th>16</th>\n      <td>16</td>\n      <td>10/4/20 12:28 AM</td>\n      <td>Completed</td>\n      <td>526</td>\n      <td>NaN</td>\n      <td>NaN</td>\n      <td>73.86.219.52</td>\n      <td>United States</td>\n      <td>Maryland</td>\n      <td>Baltimore</td>\n      <td>...</td>\n      <td>1</td>\n      <td>NaN</td>\n      <td>NaN</td>\n      <td>NaN</td>\n      <td>NaN</td>\n      <td>1</td>\n      <td>NaN</td>\n      <td>NaN</td>\n      <td>NaN</td>\n      <td>My professional goal is to become a Financial ...</td>\n    </tr>\n    <tr>\n      <th>17</th>\n      <td>17</td>\n      <td>10/4/20 5:22 AM</td>\n      <td>Completed</td>\n      <td>398</td>\n      <td>NaN</td>\n      <td>NaN</td>\n      <td>69.138.215.127</td>\n      <td>United States</td>\n      <td>Virginia</td>\n      <td>Arlington</td>\n      <td>...</td>\n      <td>1</td>\n      <td>NaN</td>\n      <td>NaN</td>\n      <td>NaN</td>\n      <td>NaN</td>\n      <td>1</td>\n      <td>NaN</td>\n      <td>NaN</td>\n      <td>NaN</td>\n      <td>able to compliment my Computational Social Sci...</td>\n    </tr>\n    <tr>\n      <th>18</th>\n      <td>18</td>\n      <td>10/4/20 5:36 AM</td>\n      <td>Completed</td>\n      <td>128253</td>\n      <td>NaN</td>\n      <td>NaN</td>\n      <td>72.196.231.70</td>\n      <td>United States</td>\n      <td>Virginia</td>\n      <td>Springfield</td>\n      <td>...</td>\n      <td>NaN</td>\n      <td>NaN</td>\n      <td>1</td>\n      <td>NaN</td>\n      <td>NaN</td>\n      <td>NaN</td>\n      <td>1</td>\n      <td>NaN</td>\n      <td>NaN</td>\n      <td>To start a company</td>\n    </tr>\n    <tr>\n      <th>19</th>\n      <td>19</td>\n      <td>10/4/20 5:47 AM</td>\n      <td>Completed</td>\n      <td>239</td>\n      <td>NaN</td>\n      <td>NaN</td>\n      <td>100.15.54.17</td>\n      <td>United States</td>\n      <td>Virginia</td>\n      <td>Woodbridge</td>\n      <td>...</td>\n      <td>NaN</td>\n      <td>NaN</td>\n      <td>NaN</td>\n      <td>NaN</td>\n      <td>NaN</td>\n      <td>NaN</td>\n      <td>1</td>\n      <td>NaN</td>\n      <td>NaN</td>\n      <td>To be able understand and manipulate data to m...</td>\n    </tr>\n    <tr>\n      <th>20</th>\n      <td>20</td>\n      <td>10/4/20 10:32 AM</td>\n      <td>Completed</td>\n      <td>255</td>\n      <td>NaN</td>\n      <td>NaN</td>\n      <td>184.170.83.239</td>\n      <td>United States</td>\n      <td>Virginia</td>\n      <td>Rustburg</td>\n      <td>...</td>\n      <td>NaN</td>\n      <td>NaN</td>\n      <td>NaN</td>\n      <td>1</td>\n      <td>NaN</td>\n      <td>NaN</td>\n      <td>1</td>\n      <td>NaN</td>\n      <td>NaN</td>\n      <td>My ultimate goal is to get a job as a sports a...</td>\n    </tr>\n    <tr>\n      <th>21</th>\n      <td>21</td>\n      <td>10/4/20 11:03 AM</td>\n      <td>Completed</td>\n      <td>256</td>\n      <td>NaN</td>\n      <td>NaN</td>\n      <td>100.36.243.102</td>\n      <td>United States</td>\n      <td>Virginia</td>\n      <td>Fairfax</td>\n      <td>...</td>\n      <td>1</td>\n      <td>NaN</td>\n      <td>NaN</td>\n      <td>NaN</td>\n      <td>NaN</td>\n      <td>1</td>\n      <td>NaN</td>\n      <td>NaN</td>\n      <td>NaN</td>\n      <td>To understand how to properly interpret and di...</td>\n    </tr>\n    <tr>\n      <th>22</th>\n      <td>22</td>\n      <td>10/4/20 12:34 PM</td>\n      <td>Completed</td>\n      <td>674</td>\n      <td>NaN</td>\n      <td>NaN</td>\n      <td>108.56.134.80</td>\n      <td>United States</td>\n      <td>Virginia</td>\n      <td>Reston</td>\n      <td>...</td>\n      <td>NaN</td>\n      <td>NaN</td>\n      <td>NaN</td>\n      <td>NaN</td>\n      <td>NaN</td>\n      <td>NaN</td>\n      <td>1</td>\n      <td>NaN</td>\n      <td>NaN</td>\n      <td>After graduating data analytics, I want myself...</td>\n    </tr>\n    <tr>\n      <th>23</th>\n      <td>23</td>\n      <td>10/4/20 1:36 PM</td>\n      <td>Completed</td>\n      <td>130</td>\n      <td>NaN</td>\n      <td>NaN</td>\n      <td>73.163.163.82</td>\n      <td>United States</td>\n      <td>Maryland</td>\n      <td>Baltimore</td>\n      <td>...</td>\n      <td>NaN</td>\n      <td>NaN</td>\n      <td>1</td>\n      <td>NaN</td>\n      <td>1</td>\n      <td>NaN</td>\n      <td>NaN</td>\n      <td>NaN</td>\n      <td>NaN</td>\n      <td>Learning how to appropriately handle large qua...</td>\n    </tr>\n    <tr>\n      <th>24</th>\n      <td>24</td>\n      <td>10/4/20 1:50 PM</td>\n      <td>Completed</td>\n      <td>275</td>\n      <td>NaN</td>\n      <td>NaN</td>\n      <td>138.88.223.87</td>\n      <td>United States</td>\n      <td>NaN</td>\n      <td>NaN</td>\n      <td>...</td>\n      <td>NaN</td>\n      <td>NaN</td>\n      <td>NaN</td>\n      <td>NaN</td>\n      <td>1</td>\n      <td>NaN</td>\n      <td>NaN</td>\n      <td>NaN</td>\n      <td>NaN</td>\n      <td>To learn and understand the fundamentals and m...</td>\n    </tr>\n    <tr>\n      <th>25</th>\n      <td>25</td>\n      <td>10/4/20 9:28 PM</td>\n      <td>Completed</td>\n      <td>325</td>\n      <td>NaN</td>\n      <td>NaN</td>\n      <td>100.36.50.114</td>\n      <td>United States</td>\n      <td>NaN</td>\n      <td>NaN</td>\n      <td>...</td>\n      <td>NaN</td>\n      <td>1</td>\n      <td>NaN</td>\n      <td>NaN</td>\n      <td>NaN</td>\n      <td>NaN</td>\n      <td>1</td>\n      <td>NaN</td>\n      <td>NaN</td>\n      <td>The goal is to learn as many programming/stati...</td>\n    </tr>\n    <tr>\n      <th>26</th>\n      <td>26</td>\n      <td>10/5/20 9:37 AM</td>\n      <td>Completed</td>\n      <td>257</td>\n      <td>NaN</td>\n      <td>NaN</td>\n      <td>108.51.59.195</td>\n      <td>United States</td>\n      <td>Virginia</td>\n      <td>Burke</td>\n      <td>...</td>\n      <td>1</td>\n      <td>NaN</td>\n      <td>NaN</td>\n      <td>NaN</td>\n      <td>NaN</td>\n      <td>1</td>\n      <td>NaN</td>\n      <td>NaN</td>\n      <td>NaN</td>\n      <td>Learning analytics tool and being good at them</td>\n    </tr>\n    <tr>\n      <th>27</th>\n      <td>27</td>\n      <td>10/5/20 9:36 AM</td>\n      <td>Completed</td>\n      <td>657</td>\n      <td>NaN</td>\n      <td>NaN</td>\n      <td>72.83.246.219</td>\n      <td>United States</td>\n      <td>Virginia</td>\n      <td>Fairfax</td>\n      <td>...</td>\n      <td>NaN</td>\n      <td>NaN</td>\n      <td>1</td>\n      <td>NaN</td>\n      <td>NaN</td>\n      <td>NaN</td>\n      <td>1</td>\n      <td>NaN</td>\n      <td>NaN</td>\n      <td>I want to be as a data analyst</td>\n    </tr>\n    <tr>\n      <th>28</th>\n      <td>28</td>\n      <td>10/5/20 10:36 AM</td>\n      <td>Completed</td>\n      <td>1750</td>\n      <td>NaN</td>\n      <td>NaN</td>\n      <td>100.36.118.186</td>\n      <td>United States</td>\n      <td>Virginia</td>\n      <td>Burke</td>\n      <td>...</td>\n      <td>NaN</td>\n      <td>NaN</td>\n      <td>1</td>\n      <td>NaN</td>\n      <td>NaN</td>\n      <td>NaN</td>\n      <td>1</td>\n      <td>NaN</td>\n      <td>NaN</td>\n      <td>It is very relevant to my PhD research area an...</td>\n    </tr>\n    <tr>\n      <th>29</th>\n      <td>29</td>\n      <td>10/5/20 11:02 AM</td>\n      <td>Completed</td>\n      <td>887</td>\n      <td>NaN</td>\n      <td>NaN</td>\n      <td>172.58.187.98</td>\n      <td>United States</td>\n      <td>Maryland</td>\n      <td>Baltimore</td>\n      <td>...</td>\n      <td>NaN</td>\n      <td>1</td>\n      <td>NaN</td>\n      <td>NaN</td>\n      <td>NaN</td>\n      <td>NaN</td>\n      <td>1</td>\n      <td>NaN</td>\n      <td>NaN</td>\n      <td>Learn how to handle large amount structured an...</td>\n    </tr>\n    <tr>\n      <th>30</th>\n      <td>30</td>\n      <td>10/5/20 11:17 AM</td>\n      <td>Completed</td>\n      <td>180</td>\n      <td>NaN</td>\n      <td>NaN</td>\n      <td>72.196.230.201</td>\n      <td>United States</td>\n      <td>Virginia</td>\n      <td>Springfield</td>\n      <td>...</td>\n      <td>NaN</td>\n      <td>1</td>\n      <td>NaN</td>\n      <td>NaN</td>\n      <td>NaN</td>\n      <td>NaN</td>\n      <td>NaN</td>\n      <td>1</td>\n      <td>NaN</td>\n      <td>To become a good Data Analyst and work for top...</td>\n    </tr>\n    <tr>\n      <th>31</th>\n      <td>31</td>\n      <td>10/5/20 12:52 PM</td>\n      <td>Completed</td>\n      <td>392</td>\n      <td>NaN</td>\n      <td>NaN</td>\n      <td>108.18.111.204</td>\n      <td>United States</td>\n      <td>Virginia</td>\n      <td>Lorton</td>\n      <td>...</td>\n      <td>1</td>\n      <td>NaN</td>\n      <td>NaN</td>\n      <td>NaN</td>\n      <td>NaN</td>\n      <td>1</td>\n      <td>NaN</td>\n      <td>NaN</td>\n      <td>NaN</td>\n      <td>Get a better understanding of the granularity ...</td>\n    </tr>\n    <tr>\n      <th>32</th>\n      <td>32</td>\n      <td>10/5/20 12:56 PM</td>\n      <td>Incomplete</td>\n      <td>192</td>\n      <td>NaN</td>\n      <td>NaN</td>\n      <td>71.191.72.223</td>\n      <td>United States</td>\n      <td>Virginia</td>\n      <td>Burke</td>\n      <td>...</td>\n      <td>NaN</td>\n      <td>NaN</td>\n      <td>1</td>\n      <td>NaN</td>\n      <td>NaN</td>\n      <td>NaN</td>\n      <td>NaN</td>\n      <td>1</td>\n      <td>NaN</td>\n      <td>NaN</td>\n    </tr>\n    <tr>\n      <th>33</th>\n      <td>33</td>\n      <td>10/5/20 1:52 PM</td>\n      <td>Completed</td>\n      <td>277</td>\n      <td>NaN</td>\n      <td>NaN</td>\n      <td>184.191.72.8</td>\n      <td>United States</td>\n      <td>Virginia</td>\n      <td>Falls Church</td>\n      <td>...</td>\n      <td>1</td>\n      <td>NaN</td>\n      <td>NaN</td>\n      <td>NaN</td>\n      <td>NaN</td>\n      <td>1</td>\n      <td>NaN</td>\n      <td>NaN</td>\n      <td>NaN</td>\n      <td>Learn how data analytics works</td>\n    </tr>\n    <tr>\n      <th>34</th>\n      <td>34</td>\n      <td>10/5/20 3:34 PM</td>\n      <td>Completed</td>\n      <td>119</td>\n      <td>NaN</td>\n      <td>NaN</td>\n      <td>141.156.160.243</td>\n      <td>United States</td>\n      <td>NaN</td>\n      <td>NaN</td>\n      <td>...</td>\n      <td>NaN</td>\n      <td>1</td>\n      <td>NaN</td>\n      <td>NaN</td>\n      <td>NaN</td>\n      <td>NaN</td>\n      <td>1</td>\n      <td>NaN</td>\n      <td>NaN</td>\n      <td>Advance my career in data science</td>\n    </tr>\n    <tr>\n      <th>35</th>\n      <td>35</td>\n      <td>10/5/20 3:41 PM</td>\n      <td>Completed</td>\n      <td>149</td>\n      <td>NaN</td>\n      <td>NaN</td>\n      <td>71.206.51.121</td>\n      <td>United States</td>\n      <td>Maryland</td>\n      <td>Frederick</td>\n      <td>...</td>\n      <td>1</td>\n      <td>NaN</td>\n      <td>NaN</td>\n      <td>NaN</td>\n      <td>NaN</td>\n      <td>1</td>\n      <td>NaN</td>\n      <td>NaN</td>\n      <td>NaN</td>\n      <td>Getting a good job</td>\n    </tr>\n    <tr>\n      <th>36</th>\n      <td>36</td>\n      <td>10/5/20 5:58 PM</td>\n      <td>Completed</td>\n      <td>285</td>\n      <td>NaN</td>\n      <td>NaN</td>\n      <td>129.174.252.234</td>\n      <td>United States</td>\n      <td>Virginia</td>\n      <td>Fairfax</td>\n      <td>...</td>\n      <td>NaN</td>\n      <td>NaN</td>\n      <td>NaN</td>\n      <td>NaN</td>\n      <td>1</td>\n      <td>NaN</td>\n      <td>NaN</td>\n      <td>NaN</td>\n      <td>NaN</td>\n      <td>to use the skills at work.</td>\n    </tr>\n  </tbody>\n</table>\n<p>37 rows × 46 columns</p>\n</div>",
      "text/plain": "   Unnamed: 0        Unnamed: 1  Unnamed: 2          Unnamed: 3   Unnamed: 4  \\\n0         No.              Time      Status  Duration (Seconds)  Access Code   \n1           1   10/3/20 5:49 PM   Completed               11646          NaN   \n2           2   10/3/20 5:49 PM   Completed                 113          NaN   \n3           3   10/3/20 5:49 PM   Completed                 572          NaN   \n4           4   10/3/20 5:50 PM   Completed                 365          NaN   \n5           5   10/3/20 5:51 PM   Completed                  92          NaN   \n6           6   10/3/20 5:59 PM  Incomplete                 221          NaN   \n7           7   10/3/20 6:23 PM   Completed              115983          NaN   \n8           8   10/3/20 7:10 PM  Incomplete                  40          NaN   \n9           9   10/3/20 7:25 PM   Completed                 137          NaN   \n10         10   10/3/20 7:56 PM  Incomplete                 179          NaN   \n11         11   10/3/20 8:14 PM   Completed                 127          NaN   \n12         12   10/3/20 9:38 PM   Completed                 269          NaN   \n13         13   10/3/20 9:41 PM   Completed                 117          NaN   \n14         14  10/3/20 10:49 PM   Completed                5966          NaN   \n15         15  10/3/20 11:25 PM   Completed                 254          NaN   \n16         16  10/4/20 12:28 AM   Completed                 526          NaN   \n17         17   10/4/20 5:22 AM   Completed                 398          NaN   \n18         18   10/4/20 5:36 AM   Completed              128253          NaN   \n19         19   10/4/20 5:47 AM   Completed                 239          NaN   \n20         20  10/4/20 10:32 AM   Completed                 255          NaN   \n21         21  10/4/20 11:03 AM   Completed                 256          NaN   \n22         22  10/4/20 12:34 PM   Completed                 674          NaN   \n23         23   10/4/20 1:36 PM   Completed                 130          NaN   \n24         24   10/4/20 1:50 PM   Completed                 275          NaN   \n25         25   10/4/20 9:28 PM   Completed                 325          NaN   \n26         26   10/5/20 9:37 AM   Completed                 257          NaN   \n27         27   10/5/20 9:36 AM   Completed                 657          NaN   \n28         28  10/5/20 10:36 AM   Completed                1750          NaN   \n29         29  10/5/20 11:02 AM   Completed                 887          NaN   \n30         30  10/5/20 11:17 AM   Completed                 180          NaN   \n31         31  10/5/20 12:52 PM   Completed                 392          NaN   \n32         32  10/5/20 12:56 PM  Incomplete                 192          NaN   \n33         33   10/5/20 1:52 PM   Completed                 277          NaN   \n34         34   10/5/20 3:34 PM   Completed                 119          NaN   \n35         35   10/5/20 3:41 PM   Completed                 149          NaN   \n36         36   10/5/20 5:58 PM   Completed                 285          NaN   \n\n       Unnamed: 5       Unnamed: 6     Unnamed: 7 Unnamed: 8  \\\n0   Email Address       IP Address        Country     Region   \n1             NaN   100.36.167.226  United States   Virginia   \n2             NaN    98.169.26.134  United States   Virginia   \n3             NaN     98.169.52.23  United States   Virginia   \n4             NaN   69.255.182.253  United States   Virginia   \n5             NaN   138.88.108.230  United States        NaN   \n6             NaN    108.56.134.80  United States   Virginia   \n7             NaN   108.48.175.220  United States   Virginia   \n8             NaN    173.67.199.85  United States   Virginia   \n9             NaN     74.96.114.12  United States   Virginia   \n10            NaN    107.77.241.32  United States      Texas   \n11            NaN   138.88.182.245  United States   Maryland   \n12            NaN     72.83.246.60  United States   Virginia   \n13            NaN    96.241.43.105  United States   Virginia   \n14            NaN    71.191.72.223  United States   Virginia   \n15            NaN    73.134.53.227  United States   Maryland   \n16            NaN     73.86.219.52  United States   Maryland   \n17            NaN   69.138.215.127  United States   Virginia   \n18            NaN    72.196.231.70  United States   Virginia   \n19            NaN     100.15.54.17  United States   Virginia   \n20            NaN   184.170.83.239  United States   Virginia   \n21            NaN   100.36.243.102  United States   Virginia   \n22            NaN    108.56.134.80  United States   Virginia   \n23            NaN    73.163.163.82  United States   Maryland   \n24            NaN    138.88.223.87  United States        NaN   \n25            NaN    100.36.50.114  United States        NaN   \n26            NaN    108.51.59.195  United States   Virginia   \n27            NaN    72.83.246.219  United States   Virginia   \n28            NaN   100.36.118.186  United States   Virginia   \n29            NaN    172.58.187.98  United States   Maryland   \n30            NaN   72.196.230.201  United States   Virginia   \n31            NaN   108.18.111.204  United States   Virginia   \n32            NaN    71.191.72.223  United States   Virginia   \n33            NaN     184.191.72.8  United States   Virginia   \n34            NaN  141.156.160.243  United States        NaN   \n35            NaN    71.206.51.121  United States   Maryland   \n36            NaN  129.174.252.234  United States   Virginia   \n\n                Unnamed: 9  ...             Q11.1         Q11.2  \\\n0   City / Town / District  ...  Some familiarity  Average user   \n1                  Fairfax  ...               NaN           NaN   \n2                  Fairfax  ...               NaN             1   \n3           Greenway Downs  ...               NaN           NaN   \n4              Gainesville  ...               NaN           NaN   \n5                      NaN  ...                 1           NaN   \n6                   Reston  ...               NaN           NaN   \n7                Arlington  ...               NaN             1   \n8                  Ashburn  ...               NaN           NaN   \n9               Woodbridge  ...               NaN           NaN   \n10                     NaN  ...               NaN           NaN   \n11             Takoma Park  ...               NaN           NaN   \n12                 Fairfax  ...               NaN             1   \n13               Chantilly  ...               NaN             1   \n14                   Burke  ...               NaN             1   \n15             Hyattsville  ...               NaN           NaN   \n16               Baltimore  ...                 1           NaN   \n17               Arlington  ...                 1           NaN   \n18             Springfield  ...               NaN           NaN   \n19              Woodbridge  ...               NaN           NaN   \n20                Rustburg  ...               NaN           NaN   \n21                 Fairfax  ...                 1           NaN   \n22                  Reston  ...               NaN           NaN   \n23               Baltimore  ...               NaN           NaN   \n24                     NaN  ...               NaN           NaN   \n25                     NaN  ...               NaN             1   \n26                   Burke  ...                 1           NaN   \n27                 Fairfax  ...               NaN           NaN   \n28                   Burke  ...               NaN           NaN   \n29               Baltimore  ...               NaN             1   \n30             Springfield  ...               NaN             1   \n31                  Lorton  ...                 1           NaN   \n32                   Burke  ...               NaN           NaN   \n33            Falls Church  ...                 1           NaN   \n34                     NaN  ...               NaN             1   \n35               Frederick  ...                 1           NaN   \n36                 Fairfax  ...               NaN           NaN   \n\n                        Q11.3          Q11.4          Q12             Q12.1  \\\n0   Frequent use for projects  Fluent/expert  Little/none  Some familiarity   \n1                         NaN            NaN          NaN                 1   \n2                         NaN            NaN            1               NaN   \n3                         NaN            NaN          NaN               NaN   \n4                           1            NaN          NaN                 1   \n5                         NaN            NaN          NaN               NaN   \n6                         NaN            NaN          NaN               NaN   \n7                         NaN            NaN          NaN               NaN   \n8                         NaN            NaN          NaN               NaN   \n9                           1            NaN          NaN               NaN   \n10                        NaN            NaN          NaN               NaN   \n11                        NaN            NaN          NaN                 1   \n12                        NaN            NaN          NaN               NaN   \n13                        NaN            NaN          NaN               NaN   \n14                        NaN            NaN          NaN               NaN   \n15                        NaN            NaN            1               NaN   \n16                        NaN            NaN          NaN                 1   \n17                        NaN            NaN          NaN                 1   \n18                          1            NaN          NaN               NaN   \n19                        NaN            NaN          NaN               NaN   \n20                        NaN              1          NaN               NaN   \n21                        NaN            NaN          NaN                 1   \n22                        NaN            NaN          NaN               NaN   \n23                          1            NaN            1               NaN   \n24                        NaN            NaN            1               NaN   \n25                        NaN            NaN          NaN               NaN   \n26                        NaN            NaN          NaN                 1   \n27                          1            NaN          NaN               NaN   \n28                          1            NaN          NaN               NaN   \n29                        NaN            NaN          NaN               NaN   \n30                        NaN            NaN          NaN               NaN   \n31                        NaN            NaN          NaN                 1   \n32                          1            NaN          NaN               NaN   \n33                        NaN            NaN          NaN                 1   \n34                        NaN            NaN          NaN               NaN   \n35                        NaN            NaN          NaN                 1   \n36                        NaN            NaN            1               NaN   \n\n           Q12.2                      Q12.3          Q12.4  \\\n0   Average user  Frequent use for projects  Fluent/expert   \n1            NaN                        NaN            NaN   \n2            NaN                        NaN            NaN   \n3              1                        NaN            NaN   \n4            NaN                        NaN            NaN   \n5              1                        NaN            NaN   \n6            NaN                        NaN            NaN   \n7              1                        NaN            NaN   \n8            NaN                        NaN            NaN   \n9              1                        NaN            NaN   \n10           NaN                        NaN            NaN   \n11           NaN                        NaN            NaN   \n12           NaN                          1            NaN   \n13             1                        NaN            NaN   \n14             1                        NaN            NaN   \n15           NaN                        NaN            NaN   \n16           NaN                        NaN            NaN   \n17           NaN                        NaN            NaN   \n18             1                        NaN            NaN   \n19             1                        NaN            NaN   \n20             1                        NaN            NaN   \n21           NaN                        NaN            NaN   \n22             1                        NaN            NaN   \n23           NaN                        NaN            NaN   \n24           NaN                        NaN            NaN   \n25             1                        NaN            NaN   \n26           NaN                        NaN            NaN   \n27             1                        NaN            NaN   \n28             1                        NaN            NaN   \n29             1                        NaN            NaN   \n30           NaN                          1            NaN   \n31           NaN                        NaN            NaN   \n32           NaN                          1            NaN   \n33           NaN                        NaN            NaN   \n34             1                        NaN            NaN   \n35           NaN                        NaN            NaN   \n36           NaN                        NaN            NaN   \n\n                                                  Q13  \n0   What is your goal for learning about data anal...  \n1                                                 NaN  \n2                                                 NaN  \n3   As part of my work, I have access to a lot of ...  \n4                                                 NaN  \n5                                               Learn  \n6                                                 NaN  \n7   To deduce meaningful interpretation for Financ...  \n8                                                 NaN  \n9                                                 NaN  \n10                                                NaN  \n11  To see if it is a field I am interested in pur...  \n12  To learn and explore cutting edge data technol...  \n13  Learn to select the appropriate tools to condu...  \n14                                                NaN  \n15                                  improve my skills  \n16  My professional goal is to become a Financial ...  \n17  able to compliment my Computational Social Sci...  \n18                                To start a company   \n19  To be able understand and manipulate data to m...  \n20  My ultimate goal is to get a job as a sports a...  \n21  To understand how to properly interpret and di...  \n22  After graduating data analytics, I want myself...  \n23  Learning how to appropriately handle large qua...  \n24  To learn and understand the fundamentals and m...  \n25  The goal is to learn as many programming/stati...  \n26     Learning analytics tool and being good at them  \n27                    I want to be as a data analyst   \n28  It is very relevant to my PhD research area an...  \n29  Learn how to handle large amount structured an...  \n30  To become a good Data Analyst and work for top...  \n31  Get a better understanding of the granularity ...  \n32                                                NaN  \n33                     Learn how data analytics works  \n34                  Advance my career in data science  \n35                                 Getting a good job  \n36                         to use the skills at work.  \n\n[37 rows x 46 columns]"
     },
     "execution_count": 705,
     "metadata": {},
     "output_type": "execute_result"
    }
   ],
   "source": [
    "df = pd.read_csv('C:/Users/HP/OneDrive/Desktop/dataSci/580SurveyCleanup.csv')"
   ]
  },
  {
   "cell_type": "code",
   "execution_count": null,
   "metadata": {},
   "outputs": [],
   "source": [
    "df_1 = df.iloc[:,1:12]"
   ]
  },
  {
   "cell_type": "code",
   "execution_count": 704,
   "metadata": {},
   "outputs": [
    {
     "data": {
      "text/html": "<div>\n<style scoped>\n    .dataframe tbody tr th:only-of-type {\n        vertical-align: middle;\n    }\n\n    .dataframe tbody tr th {\n        vertical-align: top;\n    }\n\n    .dataframe thead th {\n        text-align: right;\n    }\n</style>\n<table border=\"1\" class=\"dataframe\">\n  <thead>\n    <tr style=\"text-align: right;\">\n      <th></th>\n      <th>Time</th>\n      <th>Status</th>\n      <th>Duration (Seconds)</th>\n      <th>Access Code</th>\n      <th>Email Address</th>\n      <th>IP Address</th>\n      <th>Country</th>\n      <th>Region</th>\n      <th>City / Town / District</th>\n      <th>Latitude</th>\n      <th>Longitude</th>\n    </tr>\n  </thead>\n  <tbody>\n    <tr>\n      <th>1</th>\n      <td>10/3/20 5:49 PM</td>\n      <td>Completed</td>\n      <td>11646</td>\n      <td>NaN</td>\n      <td>NaN</td>\n      <td>100.36.167.226</td>\n      <td>United States</td>\n      <td>Virginia</td>\n      <td>Fairfax</td>\n      <td>-77.2891</td>\n      <td>38.8209</td>\n    </tr>\n    <tr>\n      <th>2</th>\n      <td>10/3/20 5:49 PM</td>\n      <td>Completed</td>\n      <td>113</td>\n      <td>NaN</td>\n      <td>NaN</td>\n      <td>98.169.26.134</td>\n      <td>United States</td>\n      <td>Virginia</td>\n      <td>Fairfax</td>\n      <td>-77.263</td>\n      <td>38.8605</td>\n    </tr>\n    <tr>\n      <th>3</th>\n      <td>10/3/20 5:49 PM</td>\n      <td>Completed</td>\n      <td>572</td>\n      <td>NaN</td>\n      <td>NaN</td>\n      <td>98.169.52.23</td>\n      <td>United States</td>\n      <td>Virginia</td>\n      <td>Greenway Downs</td>\n      <td>-77.2331</td>\n      <td>38.9645</td>\n    </tr>\n    <tr>\n      <th>4</th>\n      <td>10/3/20 5:50 PM</td>\n      <td>Completed</td>\n      <td>365</td>\n      <td>NaN</td>\n      <td>NaN</td>\n      <td>69.255.182.253</td>\n      <td>United States</td>\n      <td>Virginia</td>\n      <td>Gainesville</td>\n      <td>-77.6308</td>\n      <td>38.8175</td>\n    </tr>\n    <tr>\n      <th>5</th>\n      <td>10/3/20 5:51 PM</td>\n      <td>Completed</td>\n      <td>92</td>\n      <td>NaN</td>\n      <td>NaN</td>\n      <td>138.88.108.230</td>\n      <td>United States</td>\n      <td>NaN</td>\n      <td>NaN</td>\n      <td>-97.822</td>\n      <td>37.751</td>\n    </tr>\n  </tbody>\n</table>\n</div>",
      "text/plain": "0             Time     Status Duration (Seconds) Access Code Email Address  \\\n1  10/3/20 5:49 PM  Completed              11646         NaN           NaN   \n2  10/3/20 5:49 PM  Completed                113         NaN           NaN   \n3  10/3/20 5:49 PM  Completed                572         NaN           NaN   \n4  10/3/20 5:50 PM  Completed                365         NaN           NaN   \n5  10/3/20 5:51 PM  Completed                 92         NaN           NaN   \n\n0      IP Address        Country    Region City / Town / District  Latitude  \\\n1  100.36.167.226  United States  Virginia                Fairfax  -77.2891   \n2   98.169.26.134  United States  Virginia                Fairfax   -77.263   \n3    98.169.52.23  United States  Virginia         Greenway Downs  -77.2331   \n4  69.255.182.253  United States  Virginia            Gainesville  -77.6308   \n5  138.88.108.230  United States       NaN                    NaN   -97.822   \n\n0 Longitude  \n1   38.8209  \n2   38.8605  \n3   38.9645  \n4   38.8175  \n5    37.751  "
     },
     "execution_count": 704,
     "metadata": {},
     "output_type": "execute_result"
    }
   ],
   "source": [
    "df_1.head()"
   ]
  },
  {
   "cell_type": "markdown",
   "id": "a0e94fc4",
   "metadata": {},
   "source": [
    "### Replacing header with first row"
   ]
  },
  {
   "cell_type": "code",
   "execution_count": null,
   "metadata": {},
   "outputs": [],
   "source": [
    "df_1.columns = df_1.iloc[0]\n",
    "df_1 = df_1[1:]"
   ]
  },
  {
   "cell_type": "code",
   "execution_count": null,
   "metadata": {},
   "outputs": [],
   "source": [
    "# df_1.head()"
   ]
  },
  {
   "cell_type": "markdown",
   "id": "b63b28f7",
   "metadata": {},
   "source": [
    "### Getting Question 1 coulumns"
   ]
  },
  {
   "cell_type": "code",
   "execution_count": null,
   "metadata": {},
   "outputs": [],
   "source": [
    "df2 = df.iloc[:,[12,13]]"
   ]
  },
  {
   "cell_type": "code",
   "execution_count": null,
   "metadata": {},
   "outputs": [],
   "source": [
    "# df2.head()"
   ]
  },
  {
   "cell_type": "markdown",
   "id": "cd22cc8d",
   "metadata": {},
   "source": [
    "### Replacing header with first row"
   ]
  },
  {
   "cell_type": "code",
   "execution_count": null,
   "metadata": {},
   "outputs": [],
   "source": [
    "df2.columns = df2.iloc[0].astype(str)\n",
    "df2 = df2[1:]"
   ]
  },
  {
   "cell_type": "code",
   "execution_count": null,
   "metadata": {},
   "outputs": [],
   "source": [
    "# df2.head()"
   ]
  },
  {
   "cell_type": "markdown",
   "id": "8918e65d",
   "metadata": {},
   "source": [
    "### Replace every \"1\" value with its respective column name"
   ]
  },
  {
   "cell_type": "code",
   "execution_count": null,
   "metadata": {},
   "outputs": [],
   "source": [
    "df3 = df2.loc[:, '2.0':'4.0'].replace(1, pd.Series(df2.columns, df2.columns)).fillna('')"
   ]
  },
  {
   "cell_type": "markdown",
   "id": "95584dc3",
   "metadata": {},
   "source": [
    "### concatenate Q1 columns into one final column"
   ]
  },
  {
   "cell_type": "code",
   "execution_count": null,
   "metadata": {},
   "outputs": [],
   "source": [
    "df4 = pd.DataFrame(df3.iloc[:,0] + df3.iloc[:,1])"
   ]
  },
  {
   "cell_type": "code",
   "execution_count": null,
   "metadata": {},
   "outputs": [],
   "source": [
    "df4.columns = ['Q1']"
   ]
  },
  {
   "cell_type": "code",
   "execution_count": null,
   "metadata": {},
   "outputs": [],
   "source": [
    "# df4.head()"
   ]
  },
  {
   "cell_type": "code",
   "execution_count": null,
   "metadata": {},
   "outputs": [],
   "source": [
    "df5 = pd.concat([df_1,df4],axis=1)"
   ]
  },
  {
   "cell_type": "markdown",
   "metadata": {},
   "source": [
    "## question2"
   ]
  },
  {
   "cell_type": "code",
   "execution_count": null,
   "metadata": {},
   "outputs": [],
   "source": [
    "df2 = df.iloc[:,14:18]\n",
    "# df2.head()\n",
    "df2.columns = df2.iloc[0].astype(str)\n",
    "df2 = df2[1:]\n",
    "# df2.head()\n",
    "df3 = df2.replace(\"1\", pd.Series(df2.columns, df2.columns)).fillna('')\n",
    "\n",
    "df4 = pd.DataFrame(df3.iloc[:,0] + df3.iloc[:,1]+df3.iloc[:,2] +df3.iloc[:,3])\n",
    "df4.columns = ['Q2']\n",
    "df6 = pd.concat([df5,df4],axis=1)\n",
    "# df6.head()\n"
   ]
  },
  {
   "cell_type": "markdown",
   "metadata": {},
   "source": [
    "## q3\n"
   ]
  },
  {
   "cell_type": "code",
   "execution_count": null,
   "metadata": {},
   "outputs": [],
   "source": [
    "df2 = df.iloc[:,18:19]\n",
    "df2.columns = df2.iloc[0].astype(str)\n",
    "df2 = df2[1:]\n",
    "# df2.head()\n",
    "df3 = df2.replace(\"1\", pd.Series(df2.columns, df2.columns)).fillna('')\n",
    "\n",
    "df4 = pd.DataFrame(df3.iloc[:,0])\n",
    "df4.columns = ['Q3']\n",
    "df_3 = pd.concat([df6,df4],axis=1)\n",
    "# df_3.head()"
   ]
  },
  {
   "cell_type": "markdown",
   "metadata": {},
   "source": [
    "## q4"
   ]
  },
  {
   "cell_type": "code",
   "execution_count": null,
   "metadata": {},
   "outputs": [],
   "source": [
    "df2 = df.iloc[:,19:20]\n",
    "df2.columns = df2.iloc[0].astype(str)\n",
    "df2 = df2[1:]\n",
    "# df2.head()\n",
    "df3 = df2.replace(\"1\", pd.Series(df2.columns, df2.columns)).fillna('')\n",
    "\n",
    "df4 = pd.DataFrame(df3.iloc[:,0])\n",
    "df4.columns = ['Q4']\n",
    "df_4 = pd.concat([df_3,df4],axis=1)\n",
    "# df_3.head()"
   ]
  },
  {
   "cell_type": "markdown",
   "metadata": {},
   "source": [
    "### q5"
   ]
  },
  {
   "cell_type": "code",
   "execution_count": null,
   "metadata": {},
   "outputs": [],
   "source": [
    "df2 = df.iloc[:,20:21]\n",
    "df2.columns = df2.iloc[0].astype(str)\n",
    "df2 = df2[1:]\n",
    "# df2.head()\n",
    "df3 = df2.replace(\"1\", pd.Series(df2.columns, df2.columns)).fillna('')\n",
    "\n",
    "df4 = pd.DataFrame(df3.iloc[:,0])\n",
    "df4.columns = ['Q5']\n",
    "df_5 = pd.concat([df_4,df4],axis=1)"
   ]
  },
  {
   "cell_type": "markdown",
   "metadata": {},
   "source": [
    "#### q6"
   ]
  },
  {
   "cell_type": "code",
   "execution_count": null,
   "metadata": {},
   "outputs": [],
   "source": [
    "df2 = df.iloc[:,21:22]\n",
    "df2.columns = df2.iloc[0].astype(str)\n",
    "df2 = df2[1:]\n",
    "# df2.head()\n",
    "df3 = df2.replace(\"1\", pd.Series(df2.columns, df2.columns)).fillna('')\n",
    "\n",
    "df4 = pd.DataFrame(df3.iloc[:,0])\n",
    "df4.columns = ['Q6']\n",
    "df_6 = pd.concat([df_5,df4],axis=1)"
   ]
  },
  {
   "cell_type": "markdown",
   "metadata": {},
   "source": [
    "##### q7"
   ]
  },
  {
   "cell_type": "code",
   "execution_count": null,
   "metadata": {},
   "outputs": [],
   "source": [
    "df2 = df.iloc[:,22:23]\n",
    "df2.columns = df2.iloc[0].astype(str)\n",
    "df2 = df2[1:]\n",
    "# df2.head()\n",
    "df3 = df2.replace(\"1\", pd.Series(df2.columns, df2.columns)).fillna('')\n",
    "\n",
    "df4 = pd.DataFrame(df3.iloc[:,0])\n",
    "df4.columns = ['Q7']\n",
    "df_7 = pd.concat([df_6,df4],axis=1)\n",
    "df_7.head()"
   ]
  },
  {
   "cell_type": "markdown",
   "metadata": {},
   "source": [
    "#### q8"
   ]
  },
  {
   "cell_type": "code",
   "execution_count": 706,
   "metadata": {},
   "outputs": [
    {
     "data": {
      "text/html": "<div>\n<style scoped>\n    .dataframe tbody tr th:only-of-type {\n        vertical-align: middle;\n    }\n\n    .dataframe tbody tr th {\n        vertical-align: top;\n    }\n\n    .dataframe thead th {\n        text-align: right;\n    }\n</style>\n<table border=\"1\" class=\"dataframe\">\n  <thead>\n    <tr style=\"text-align: right;\">\n      <th></th>\n      <th>Q8</th>\n    </tr>\n  </thead>\n  <tbody>\n    <tr>\n      <th>1</th>\n      <td>Apple/MacBook</td>\n    </tr>\n    <tr>\n      <th>2</th>\n      <td>Apple/MacBook</td>\n    </tr>\n    <tr>\n      <th>3</th>\n      <td>Apple/MacBook</td>\n    </tr>\n    <tr>\n      <th>4</th>\n      <td>Microsoft/Windows</td>\n    </tr>\n    <tr>\n      <th>5</th>\n      <td>2</td>\n    </tr>\n    <tr>\n      <th>6</th>\n      <td></td>\n    </tr>\n    <tr>\n      <th>7</th>\n      <td>Microsoft/Windows</td>\n    </tr>\n    <tr>\n      <th>8</th>\n      <td></td>\n    </tr>\n    <tr>\n      <th>9</th>\n      <td>Microsoft/Windows</td>\n    </tr>\n    <tr>\n      <th>10</th>\n      <td></td>\n    </tr>\n    <tr>\n      <th>11</th>\n      <td>Microsoft/Windows</td>\n    </tr>\n    <tr>\n      <th>12</th>\n      <td>Microsoft/Windows</td>\n    </tr>\n    <tr>\n      <th>13</th>\n      <td>Apple/MacBook</td>\n    </tr>\n    <tr>\n      <th>14</th>\n      <td>Microsoft/Windows</td>\n    </tr>\n    <tr>\n      <th>15</th>\n      <td>Microsoft/Windows</td>\n    </tr>\n    <tr>\n      <th>16</th>\n      <td>Microsoft/Windows</td>\n    </tr>\n    <tr>\n      <th>17</th>\n      <td>Microsoft/WindowsApple/MacBook</td>\n    </tr>\n    <tr>\n      <th>18</th>\n      <td>Microsoft/Windows</td>\n    </tr>\n    <tr>\n      <th>19</th>\n      <td>Microsoft/Windows</td>\n    </tr>\n    <tr>\n      <th>20</th>\n      <td>Apple/MacBook</td>\n    </tr>\n    <tr>\n      <th>21</th>\n      <td>Microsoft/Windows</td>\n    </tr>\n    <tr>\n      <th>22</th>\n      <td>Microsoft/Windows</td>\n    </tr>\n    <tr>\n      <th>23</th>\n      <td>Microsoft/WindowsApple/MacBook</td>\n    </tr>\n    <tr>\n      <th>24</th>\n      <td>Microsoft/Windows</td>\n    </tr>\n    <tr>\n      <th>25</th>\n      <td>Microsoft/Windows</td>\n    </tr>\n    <tr>\n      <th>26</th>\n      <td>0</td>\n    </tr>\n    <tr>\n      <th>27</th>\n      <td>Apple/MacBook</td>\n    </tr>\n    <tr>\n      <th>28</th>\n      <td>Microsoft/Windows</td>\n    </tr>\n    <tr>\n      <th>29</th>\n      <td>Microsoft/Windows</td>\n    </tr>\n    <tr>\n      <th>30</th>\n      <td>Apple/MacBook</td>\n    </tr>\n    <tr>\n      <th>31</th>\n      <td>Microsoft/Windows</td>\n    </tr>\n    <tr>\n      <th>32</th>\n      <td>Microsoft/WindowsApple/MacBook</td>\n    </tr>\n    <tr>\n      <th>33</th>\n      <td>Microsoft/Windows</td>\n    </tr>\n    <tr>\n      <th>34</th>\n      <td>Microsoft/Windows</td>\n    </tr>\n    <tr>\n      <th>35</th>\n      <td>Microsoft/Windows</td>\n    </tr>\n    <tr>\n      <th>36</th>\n      <td>OtherAcer/Windows</td>\n    </tr>\n  </tbody>\n</table>\n</div>",
      "text/plain": "                                Q8\n1                    Apple/MacBook\n2                    Apple/MacBook\n3                    Apple/MacBook\n4                Microsoft/Windows\n5                                2\n6                                 \n7                Microsoft/Windows\n8                                 \n9                Microsoft/Windows\n10                                \n11               Microsoft/Windows\n12               Microsoft/Windows\n13                   Apple/MacBook\n14               Microsoft/Windows\n15               Microsoft/Windows\n16               Microsoft/Windows\n17  Microsoft/WindowsApple/MacBook\n18               Microsoft/Windows\n19               Microsoft/Windows\n20                   Apple/MacBook\n21               Microsoft/Windows\n22               Microsoft/Windows\n23  Microsoft/WindowsApple/MacBook\n24               Microsoft/Windows\n25               Microsoft/Windows\n26                               0\n27                   Apple/MacBook\n28               Microsoft/Windows\n29               Microsoft/Windows\n30                   Apple/MacBook\n31               Microsoft/Windows\n32  Microsoft/WindowsApple/MacBook\n33               Microsoft/Windows\n34               Microsoft/Windows\n35               Microsoft/Windows\n36               OtherAcer/Windows"
     },
     "execution_count": 706,
     "metadata": {},
     "output_type": "execute_result"
    }
   ],
   "source": [
    "df2 = df.iloc[:,23:27]\n",
    "df2.columns = df2.iloc[0].astype(str)\n",
    "df2 = df2[1:]\n",
    "# df2.head()\n",
    "df3 = df2.replace('1', pd.Series(df2.columns, df2.columns)).fillna('')\n",
    "# df3 = df2.loc[:, '2.0':'4.0'].replace([1,2], pd.Series(df2.columns, df2.columns)).fillna('')\n",
    "\n",
    "df4 = pd.DataFrame(df3.iloc[:,0] + df3.iloc[:,1]+df3.iloc[:,2]+df3.iloc[:,3])\n",
    "\n",
    "df4.columns = ['Q8']\n",
    "df_8 = pd.concat([df_7,df4],axis=1)\n",
    "\n",
    "df_8.loc[:,\"Q8\"] = df_8.loc[:,\"Q8\"].str.replace(\"2\",\"Apple/MacBook\") \n",
    "# df_8.head()"
   ]
  },
  {
   "cell_type": "code",
   "execution_count": null,
   "metadata": {},
   "outputs": [],
   "source": [
    "df2 = df.iloc[:,27:30]\n",
    "df2.columns = df2.iloc[0].astype(str)\n",
    "df2 = df2[1:]\n",
    "# df2.head()\n",
    "df3 = df2.replace(\"1\", pd.Series(df2.columns, df2.columns)).fillna('')\n",
    "\n",
    "df4 = pd.DataFrame(df3.iloc[:,0] + df3.iloc[:,1]+df3.iloc[:,2])\n",
    "df4.columns = ['Q9']\n",
    "df_9 = pd.concat([df_8,df4],axis=1)"
   ]
  },
  {
   "cell_type": "code",
   "execution_count": null,
   "metadata": {},
   "outputs": [],
   "source": [
    "df2 = df.iloc[:,30:35]\n",
    "df2.columns = df2.iloc[0].astype(str)\n",
    "df2 = df2[1:]\n",
    "# df2.head()\n",
    "df3 = df2.replace(\"1\", pd.Series(df2.columns, df2.columns)).fillna('')\n",
    "\n",
    "df4 = pd.DataFrame(df3.iloc[:,0] + df3.iloc[:,1]+df3.iloc[:,2]+df3.iloc[:,3]+df3.iloc[:,4])\n",
    "df4.columns = ['Q10']\n",
    "df_10 = pd.concat([df_9,df4],axis=1)"
   ]
  },
  {
   "cell_type": "code",
   "execution_count": null,
   "metadata": {},
   "outputs": [],
   "source": [
    "df2 = df.iloc[:,35:40]\n",
    "df2.columns = df2.iloc[0].astype(str)\n",
    "df2 = df2[1:]\n",
    "# df2.head()\n",
    "df3 = df2.replace(\"1\", pd.Series(df2.columns, df2.columns)).fillna('')\n",
    "\n",
    "df4 = pd.DataFrame(df3.iloc[:,0] + df3.iloc[:,1]+df3.iloc[:,2]+df3.iloc[:,3]+df3.iloc[:,4])\n",
    "df4.columns = ['Q11']\n",
    "df_11 = pd.concat([df_10,df4],axis=1)"
   ]
  },
  {
   "cell_type": "code",
   "execution_count": null,
   "metadata": {},
   "outputs": [],
   "source": [
    "df2 = df.iloc[:,40:45]\n",
    "df2.columns = df2.iloc[0].astype(str)\n",
    "df2 = df2[1:]\n",
    "# df2.head()\n",
    "df3 = df2.replace(\"1\", pd.Series(df2.columns, df2.columns)).fillna('')\n",
    "\n",
    "df4 = pd.DataFrame(df3.iloc[:,0] + df3.iloc[:,1]+df3.iloc[:,2]+df3.iloc[:,3]+df3.iloc[:,4])\n",
    "df4.columns = ['Q12']\n",
    "df_12 = pd.concat([df_11,df4],axis=1)\n",
    "# df_11.head()"
   ]
  },
  {
   "cell_type": "code",
   "execution_count": null,
   "metadata": {},
   "outputs": [],
   "source": [
    "df2 = df.iloc[:,45:46]\n",
    "\n",
    "df2.columns = df2.iloc[0].astype(str)\n",
    "df2 = df2[1:]\n",
    "# df2.head()\n",
    "df3 = df2.replace(\"1\", pd.Series(df2.columns, df2.columns)).fillna('')\n",
    "\n",
    "df4 = pd.DataFrame(df3.iloc[:,0])\n",
    "df4.columns = ['q13']\n",
    "df_13 = pd.concat([df_12,df4],axis=1)\n",
    "# df_13.head()"
   ]
  },
  {
   "cell_type": "code",
   "execution_count": null,
   "metadata": {},
   "outputs": [],
   "source": [
    "# import sys\n",
    "# df_13.to_csv('out.csv')\n",
    "path=r'C:\\Users\\HP\\OneDrive\\Desktop\\dataSci\\hw2'\n",
    "df_13.to_csv(path+'580SurveyCleanup_formatted.csv')\n"
   ]
  },
  {
   "cell_type": "code",
   "execution_count": null,
   "metadata": {},
   "outputs": [],
   "source": []
  }
 ],
 "metadata": {
  "kernelspec": {
   "display_name": "Python 3.9.6 64-bit",
   "language": "python",
   "name": "python39664bite11a433b756b4438bb9e819212d1f73b"
  },
  "language_info": {
   "codemirror_mode": {
    "name": "ipython",
    "version": 3
   },
   "file_extension": ".py",
   "mimetype": "text/x-python",
   "name": "python",
   "nbconvert_exporter": "python",
   "pygments_lexer": "ipython3",
   "version": "3.9.6-final"
  }
 },
 "nbformat": 4,
 "nbformat_minor": 5
}