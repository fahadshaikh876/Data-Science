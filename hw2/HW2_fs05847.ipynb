{
 "nbformat": 4,
 "nbformat_minor": 2,
 "metadata": {
  "language_info": {
   "name": "python",
   "codemirror_mode": {
    "name": "ipython",
    "version": 3
   },
   "version": "3.9.6-final"
  },
  "orig_nbformat": 2,
  "file_extension": ".py",
  "mimetype": "text/x-python",
  "name": "python",
  "npconvert_exporter": "python",
  "pygments_lexer": "ipython3",
  "version": 3,
  "kernelspec": {
   "name": "python39664bite11a433b756b4438bb9e819212d1f73b",
   "display_name": "Python 3.9.6 64-bit"
  }
 },
 "cells": [
  {
   "cell_type": "markdown",
   "metadata": {},
   "source": [
    "# CS 457 - Homework Assignment 2: Data Wrangling\n",
    "## Fahad Ahmed - fs05847@st.habib.edu.pk"
   ]
  },
  {
   "cell_type": "markdown",
   "metadata": {},
   "source": [
    "### part 2: Explanation of some parts."
   ]
  },
  {
   "cell_type": "markdown",
   "metadata": {},
   "source": [
    "## list of columns that have missing value: 'Access Code','Email Address','Region','City / Town / District','Q4','Q5','Q6','Q7','Q8','Q9','Q10','Q11','Q12','q13'\n",
    "\n",
    "\n",
    "# methods that are used to fill the missing values:\n",
    "## for values that numerical I used mean of whole colume and for values that text(categorical) I used mode of that colume, Reason:\n",
    "## we can find the mode of categorical dat using pandas and put that value for probability of appearing that value is high and for numerical data i used mean because it will be average value of whole colume so it will value closer to accurate value with high probability."
   ]
  },
  {
   "cell_type": "markdown",
   "metadata": {},
   "source": [
    "### -------------"
   ]
  },
  {
   "cell_type": "markdown",
   "metadata": {},
   "source": [
    "\n",
    "## Part 3"
   ]
  },
  {
   "cell_type": "code",
   "execution_count": 27,
   "metadata": {},
   "outputs": [],
   "source": [
    "import pandas as pd"
   ]
  },
  {
   "cell_type": "code",
   "execution_count": 28,
   "metadata": {},
   "outputs": [],
   "source": [
    "df = pd.read_csv('C:/Users/HP/OneDrive/Desktop/dataSci/hw2/580SurveyCleanup_formatted_cleaned.csv')"
   ]
  },
  {
   "cell_type": "code",
   "execution_count": 29,
   "metadata": {},
   "outputs": [
    {
     "data": {
      "text/html": "<div>\n<style scoped>\n    .dataframe tbody tr th:only-of-type {\n        vertical-align: middle;\n    }\n\n    .dataframe tbody tr th {\n        vertical-align: top;\n    }\n\n    .dataframe thead th {\n        text-align: right;\n    }\n</style>\n<table border=\"1\" class=\"dataframe\">\n  <thead>\n    <tr style=\"text-align: right;\">\n      <th></th>\n      <th>Q1</th>\n      <th>Q2</th>\n      <th>Q3</th>\n      <th>Q4</th>\n      <th>Q5</th>\n      <th>Q6</th>\n      <th>Q7</th>\n      <th>Q8</th>\n      <th>Q9</th>\n      <th>Q10</th>\n      <th>Q11</th>\n      <th>Q12</th>\n      <th>q13</th>\n    </tr>\n  </thead>\n  <tbody>\n    <tr>\n      <th>count</th>\n      <td>36.000000</td>\n      <td>36</td>\n      <td>36</td>\n      <td>36</td>\n      <td>36</td>\n      <td>36</td>\n      <td>36</td>\n      <td>36</td>\n      <td>36</td>\n      <td>36</td>\n      <td>36</td>\n      <td>36</td>\n      <td>36</td>\n    </tr>\n    <tr>\n      <th>unique</th>\n      <td>NaN</td>\n      <td>4</td>\n      <td>14</td>\n      <td>19</td>\n      <td>14</td>\n      <td>26</td>\n      <td>24</td>\n      <td>5</td>\n      <td>3</td>\n      <td>4</td>\n      <td>5</td>\n      <td>4</td>\n      <td>27</td>\n    </tr>\n    <tr>\n      <th>top</th>\n      <td>NaN</td>\n      <td>Male</td>\n      <td>23</td>\n      <td>66</td>\n      <td>India</td>\n      <td>Economics</td>\n      <td>2021-12-20</td>\n      <td>Microsoft/Windows</td>\n      <td>Not Working While Attending Mason</td>\n      <td>Average User</td>\n      <td>Average User</td>\n      <td>Average User</td>\n      <td>Advance My Career In Data Science</td>\n    </tr>\n    <tr>\n      <th>freq</th>\n      <td>NaN</td>\n      <td>18</td>\n      <td>7</td>\n      <td>6</td>\n      <td>12</td>\n      <td>6</td>\n      <td>6</td>\n      <td>23</td>\n      <td>20</td>\n      <td>18</td>\n      <td>12</td>\n      <td>18</td>\n      <td>10</td>\n    </tr>\n    <tr>\n      <th>mean</th>\n      <td>2.888889</td>\n      <td>NaN</td>\n      <td>NaN</td>\n      <td>NaN</td>\n      <td>NaN</td>\n      <td>NaN</td>\n      <td>NaN</td>\n      <td>NaN</td>\n      <td>NaN</td>\n      <td>NaN</td>\n      <td>NaN</td>\n      <td>NaN</td>\n      <td>NaN</td>\n    </tr>\n    <tr>\n      <th>std</th>\n      <td>1.007905</td>\n      <td>NaN</td>\n      <td>NaN</td>\n      <td>NaN</td>\n      <td>NaN</td>\n      <td>NaN</td>\n      <td>NaN</td>\n      <td>NaN</td>\n      <td>NaN</td>\n      <td>NaN</td>\n      <td>NaN</td>\n      <td>NaN</td>\n      <td>NaN</td>\n    </tr>\n    <tr>\n      <th>min</th>\n      <td>2.000000</td>\n      <td>NaN</td>\n      <td>NaN</td>\n      <td>NaN</td>\n      <td>NaN</td>\n      <td>NaN</td>\n      <td>NaN</td>\n      <td>NaN</td>\n      <td>NaN</td>\n      <td>NaN</td>\n      <td>NaN</td>\n      <td>NaN</td>\n      <td>NaN</td>\n    </tr>\n    <tr>\n      <th>25%</th>\n      <td>2.000000</td>\n      <td>NaN</td>\n      <td>NaN</td>\n      <td>NaN</td>\n      <td>NaN</td>\n      <td>NaN</td>\n      <td>NaN</td>\n      <td>NaN</td>\n      <td>NaN</td>\n      <td>NaN</td>\n      <td>NaN</td>\n      <td>NaN</td>\n      <td>NaN</td>\n    </tr>\n    <tr>\n      <th>50%</th>\n      <td>2.000000</td>\n      <td>NaN</td>\n      <td>NaN</td>\n      <td>NaN</td>\n      <td>NaN</td>\n      <td>NaN</td>\n      <td>NaN</td>\n      <td>NaN</td>\n      <td>NaN</td>\n      <td>NaN</td>\n      <td>NaN</td>\n      <td>NaN</td>\n      <td>NaN</td>\n    </tr>\n    <tr>\n      <th>75%</th>\n      <td>4.000000</td>\n      <td>NaN</td>\n      <td>NaN</td>\n      <td>NaN</td>\n      <td>NaN</td>\n      <td>NaN</td>\n      <td>NaN</td>\n      <td>NaN</td>\n      <td>NaN</td>\n      <td>NaN</td>\n      <td>NaN</td>\n      <td>NaN</td>\n      <td>NaN</td>\n    </tr>\n    <tr>\n      <th>max</th>\n      <td>4.000000</td>\n      <td>NaN</td>\n      <td>NaN</td>\n      <td>NaN</td>\n      <td>NaN</td>\n      <td>NaN</td>\n      <td>NaN</td>\n      <td>NaN</td>\n      <td>NaN</td>\n      <td>NaN</td>\n      <td>NaN</td>\n      <td>NaN</td>\n      <td>NaN</td>\n    </tr>\n  </tbody>\n</table>\n</div>",
      "text/plain": "               Q1    Q2   Q3   Q4     Q5         Q6          Q7  \\\ncount   36.000000    36   36   36     36         36          36   \nunique        NaN     4   14   19     14         26          24   \ntop           NaN  Male   23   66  India  Economics  2021-12-20   \nfreq          NaN    18    7    6     12          6           6   \nmean     2.888889   NaN  NaN  NaN    NaN        NaN         NaN   \nstd      1.007905   NaN  NaN  NaN    NaN        NaN         NaN   \nmin      2.000000   NaN  NaN  NaN    NaN        NaN         NaN   \n25%      2.000000   NaN  NaN  NaN    NaN        NaN         NaN   \n50%      2.000000   NaN  NaN  NaN    NaN        NaN         NaN   \n75%      4.000000   NaN  NaN  NaN    NaN        NaN         NaN   \nmax      4.000000   NaN  NaN  NaN    NaN        NaN         NaN   \n\n                       Q8                                 Q9           Q10  \\\ncount                  36                                 36            36   \nunique                  5                                  3             4   \ntop     Microsoft/Windows  Not Working While Attending Mason  Average User   \nfreq                   23                                 20            18   \nmean                  NaN                                NaN           NaN   \nstd                   NaN                                NaN           NaN   \nmin                   NaN                                NaN           NaN   \n25%                   NaN                                NaN           NaN   \n50%                   NaN                                NaN           NaN   \n75%                   NaN                                NaN           NaN   \nmax                   NaN                                NaN           NaN   \n\n                 Q11           Q12                                q13  \ncount             36            36                                 36  \nunique             5             4                                 27  \ntop     Average User  Average User  Advance My Career In Data Science  \nfreq              12            18                                 10  \nmean             NaN           NaN                                NaN  \nstd              NaN           NaN                                NaN  \nmin              NaN           NaN                                NaN  \n25%              NaN           NaN                                NaN  \n50%              NaN           NaN                                NaN  \n75%              NaN           NaN                                NaN  \nmax              NaN           NaN                                NaN  "
     },
     "execution_count": 29,
     "metadata": {},
     "output_type": "execute_result"
    }
   ],
   "source": [
    "# df.describe(include = 'all')\n",
    "df1 = df.iloc[:, 11:]\n",
    "df1.describe(include = 'all')"
   ]
  },
  {
   "cell_type": "markdown",
   "metadata": {},
   "source": [
    "# using Describe function to find all statistical summary of Q1-Q12\n",
    "## Q2-13 all have some unique value, top value and some frequency in the data\n",
    "## like Q8 has top value as Microsoft/windows mean many people chose Microsoft/windows as their laptop.\n",
    "### location of most people who fill the survey are from India\n",
    "### location of most people who fill the survey are Male \n",
    "### top age is 23"
   ]
  },
  {
   "cell_type": "code",
   "execution_count": 30,
   "metadata": {},
   "outputs": [
    {
     "name": "stdout",
     "output_type": "stream",
     "text": "<class 'pandas.core.frame.DataFrame'>\nRangeIndex: 36 entries, 0 to 35\nData columns (total 24 columns):\n #   Column                  Non-Null Count  Dtype  \n---  ------                  --------------  -----  \n 0   Unnamed: 0              36 non-null     int64  \n 1   Unnamed: 0.1            36 non-null     int64  \n 2   Time                    36 non-null     object \n 3   Status                  36 non-null     object \n 4   Duration (Seconds)      36 non-null     int64  \n 5   IP Address              36 non-null     object \n 6   Country                 36 non-null     object \n 7   Region                  36 non-null     object \n 8   City / Town / District  36 non-null     object \n 9   Latitude                36 non-null     float64\n 10  Longitude               36 non-null     float64\n 11  Q1                      36 non-null     float64\n 12  Q2                      36 non-null     object \n 13  Q3                      36 non-null     object \n 14  Q4                      36 non-null     object \n 15  Q5                      36 non-null     object \n 16  Q6                      36 non-null     object \n 17  Q7                      36 non-null     object \n 18  Q8                      36 non-null     object \n 19  Q9                      36 non-null     object \n 20  Q10                     36 non-null     object \n 21  Q11                     36 non-null     object \n 22  Q12                     36 non-null     object \n 23  q13                     36 non-null     object \ndtypes: float64(3), int64(3), object(18)\nmemory usage: 6.9+ KB\n"
    }
   ],
   "source": [
    "df.info()"
   ]
  }
 ]
}