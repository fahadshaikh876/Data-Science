{
 "nbformat": 4,
 "nbformat_minor": 2,
 "metadata": {
  "language_info": {
   "name": "python",
   "codemirror_mode": {
    "name": "ipython",
    "version": 3
   },
   "version": "3.9.6-final"
  },
  "orig_nbformat": 2,
  "file_extension": ".py",
  "mimetype": "text/x-python",
  "name": "python",
  "npconvert_exporter": "python",
  "pygments_lexer": "ipython3",
  "version": 3,
  "kernelspec": {
   "name": "python39664bite11a433b756b4438bb9e819212d1f73b",
   "display_name": "Python 3.9.6 64-bit"
  }
 },
 "cells": [
  {
   "cell_type": "code",
   "execution_count": 245,
   "metadata": {},
   "outputs": [],
   "source": [
    "import pandas as pd\n",
    "import numpy as np\n",
    "import seaborn as sns\n",
    "import matplotlib.pyplot as plt\n",
    "from scipy import stats"
   ]
  },
  {
   "cell_type": "code",
   "execution_count": 246,
   "metadata": {},
   "outputs": [],
   "source": [
    "df = pd.read_csv('C:/Users/HP/OneDrive/Desktop/dataSci/hw4/EmployeeAttrition.csv')"
   ]
  },
  {
   "cell_type": "markdown",
   "metadata": {},
   "source": [
    "## 1.\n",
    "#### H0: the average monthlyIncome of males is greater than females. \n",
    "#### Ha: the average monthlyIncome of males is not greater than females."
   ]
  },
  {
   "cell_type": "code",
   "execution_count": 247,
   "metadata": {},
   "outputs": [],
   "source": [
    "male = df[(df['Gender']=='Male')]['MonthlyIncome']\n",
    "female = df[(df['Gender']=='Female')]['MonthlyIncome']"
   ]
  },
  {
   "cell_type": "code",
   "execution_count": 248,
   "metadata": {},
   "outputs": [
    {
     "data": {
      "text/plain": "Ttest_indResult(statistic=-1.2212617308870655, pvalue=0.22218303455087904)"
     },
     "execution_count": 248,
     "metadata": {},
     "output_type": "execute_result"
    }
   ],
   "source": [
    "stats.ttest_ind(male, female)"
   ]
  },
  {
   "cell_type": "markdown",
   "metadata": {},
   "source": [
    "### Conclusion:\n",
    "P-Value = 0.222, P-Value > 0.05 => NOT reject Null hypothesis H0: the average monthlyIncome of males is greater than females and have no significant differences. it means that average monthlyIncome of males is not less than females"
   ]
  },
  {
   "cell_type": "markdown",
   "metadata": {},
   "source": [
    "## 2.\n",
    "#### H0: the WorkLifeBalance of Males is less than Females \n",
    "#### Ha: the WorkLifeBalance of Males is not less than Females"
   ]
  },
  {
   "cell_type": "code",
   "execution_count": 249,
   "metadata": {},
   "outputs": [],
   "source": [
    "male = df[(df['Gender']=='Male')]['WorkLifeBalance']\n",
    "female = df[(df['Gender']=='Female')]['WorkLifeBalance']"
   ]
  },
  {
   "cell_type": "code",
   "execution_count": 250,
   "metadata": {},
   "outputs": [
    {
     "data": {
      "text/plain": "Ttest_indResult(statistic=-0.10546787956064164, pvalue=0.9160189649366257)"
     },
     "execution_count": 250,
     "metadata": {},
     "output_type": "execute_result"
    }
   ],
   "source": [
    "stats.ttest_ind(male, female)"
   ]
  },
  {
   "cell_type": "markdown",
   "metadata": {},
   "source": [
    "### Conclusion:\n",
    "P-Value = 0.916, P-Value > 0.05 => NOT reject Null hypothesis H0: the WorkLifeBalance of Males is less than Females and have no significant differences. Means that WorkLifeBalance of Males in the company is not greater than Females. "
   ]
  },
  {
   "cell_type": "markdown",
   "metadata": {},
   "source": [
    "## 3.\n",
    "#### H0: the YearsAtCompany of Single is less than Married\n",
    "#### Ha: the YearsAtCompany of Single is not less than Married"
   ]
  },
  {
   "cell_type": "code",
   "execution_count": 251,
   "metadata": {},
   "outputs": [],
   "source": [
    "Single= df[(df['MaritalStatus']=='Single')]['YearsAtCompany']\n",
    "Married = df[(df['MaritalStatus']=='Married')]['YearsAtCompany']"
   ]
  },
  {
   "cell_type": "code",
   "execution_count": 252,
   "metadata": {},
   "outputs": [
    {
     "data": {
      "text/plain": "Ttest_indResult(statistic=-2.5589985737464476, pvalue=0.010625532709863163)"
     },
     "execution_count": 252,
     "metadata": {},
     "output_type": "execute_result"
    }
   ],
   "source": [
    "stats.ttest_ind(Single, Married)"
   ]
  },
  {
   "cell_type": "markdown",
   "metadata": {},
   "source": [
    "### Conclusion:\n",
    "P-Value = 0.01, P-Value < 0.05 => Reject Null hypothesis and accept Ha: the YearsAtCompany of Single is not less than Married and significant differences does exits. Means that the average YearsAtCompany of a Single person is greater or equal to the average YearsAtCompany of a Married person."
   ]
  },
  {
   "cell_type": "markdown",
   "metadata": {},
   "source": [
    "## 4.\n",
    "#### H0: the EnvironmentalSatisfaction of Attrition=Yes is less than Attrition=No\n",
    "#### Ha: the EnvironmentalSatisfaction of Attrition=Yes is not less than Attrition=No"
   ]
  },
  {
   "cell_type": "code",
   "execution_count": 253,
   "metadata": {},
   "outputs": [],
   "source": [
    "yes = df[(df['Attrition']=='Yes')]['EnvironmentSatisfaction']\n",
    "no = df[(df['Attrition']=='No')]['EnvironmentSatisfaction']"
   ]
  },
  {
   "cell_type": "code",
   "execution_count": 254,
   "metadata": {},
   "outputs": [
    {
     "data": {
      "text/plain": "Ttest_indResult(statistic=-3.9818600026818496, pvalue=7.17233854936886e-05)"
     },
     "execution_count": 254,
     "metadata": {},
     "output_type": "execute_result"
    }
   ],
   "source": [
    "stats.ttest_ind(yes, no)"
   ]
  },
  {
   "cell_type": "markdown",
   "metadata": {},
   "source": [
    "### Conclusion:\n",
    "P-Value = 7.71e-5, P-Value < 0.05 => Reject Null hypothesis and accept Ha: the EnvironmentalSatisfaction of Attrition=Yes is not less than Attrition=No and and significant differences does exits.\n",
    "it Means the people who wants to leave the company their EnvironmentalSatisfaction is greater or eqaul to the EnvironmentalSatisfaction of people who not wants to leave the company."
   ]
  },
  {
   "cell_type": "markdown",
   "metadata": {},
   "source": [
    "## 5.\n",
    "#### H0: the average MonthlyIncome of Manager is greater than Laboratory Technician\n",
    "#### Ha: the average MonthlyIncome of Manager is not greater than Laboratory Technician"
   ]
  },
  {
   "cell_type": "code",
   "execution_count": 255,
   "metadata": {},
   "outputs": [],
   "source": [
    "manager = df[(df['JobRole']=='Manager')]['MonthlyIncome']\n",
    "tech = df[(df['JobRole']=='Laboratory Technician')]['MonthlyIncome']"
   ]
  },
  {
   "cell_type": "code",
   "execution_count": 256,
   "metadata": {},
   "outputs": [
    {
     "data": {
      "text/plain": "Ttest_indResult(statistic=76.03317414634023, pvalue=1.9942336668736867e-223)"
     },
     "execution_count": 256,
     "metadata": {},
     "output_type": "execute_result"
    }
   ],
   "source": [
    "stats.ttest_ind(manager, tech)"
   ]
  },
  {
   "cell_type": "markdown",
   "metadata": {},
   "source": [
    "### Conclusion:\n",
    "P-Value = 1.99e-223,which is very low than 0.05. P-Value < 0.05 => Reject Null hypothesis and accept Ha: the average MonthlyIncome of Manager is not greater than Laboratory Technician and significant differences does exit. so the average MonthlyIncome of manager is lesser or eqaul to Laboratory Technician but not greater."
   ]
  },
  {
   "cell_type": "markdown",
   "metadata": {},
   "source": [
    "## 6.\n",
    "#### H0: there is no association between Department and Gender\n",
    "#### Ha: there is an association between Department and Gender"
   ]
  },
  {
   "cell_type": "code",
   "execution_count": 257,
   "metadata": {},
   "outputs": [],
   "source": [
    "dg = pd.crosstab(df['Department'],df['Gender'], margins=True)"
   ]
  },
  {
   "cell_type": "code",
   "execution_count": 258,
   "metadata": {},
   "outputs": [],
   "source": [
    "value = np.array([dg.iloc[0][0:].values,dg.iloc[1][0:].values])"
   ]
  },
  {
   "cell_type": "code",
   "execution_count": 259,
   "metadata": {},
   "outputs": [],
   "source": [
    "chi2, p, dof, ex = stats.chi2_contingency(value)"
   ]
  },
  {
   "cell_type": "code",
   "execution_count": 260,
   "metadata": {},
   "outputs": [
    {
     "name": "stdout",
     "output_type": "stream",
     "text": "pvalue=0.47927963769548776\n"
    }
   ],
   "source": [
    "print(f\"pvalue={p}\")"
   ]
  },
  {
   "cell_type": "markdown",
   "metadata": {},
   "source": [
    "## Conclusion.\n",
    "p-value = 0.4792, p-value > 0.05 => we accept the NULL hypothesis and assume that the ‘Department’ and ‘Gender’ have no association and have no significant differences.\n",
    "it means that \"Department\" and \"Gender\" are independent of each other."
   ]
  }
 ]
}